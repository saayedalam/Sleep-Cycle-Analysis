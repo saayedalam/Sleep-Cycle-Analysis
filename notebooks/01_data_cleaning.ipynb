{
 "cells": [
  {
   "cell_type": "code",
   "execution_count": 6,
   "id": "d0506612-f21a-496f-89f0-aa89cdcd00cb",
   "metadata": {},
   "outputs": [],
   "source": [
    "# Loading necessary libraries\n",
    "import numpy as np\n",
    "import pandas as pd\n",
    "import matplotlib.pyplot as plt\n",
    "import seaborn as sns"
   ]
  },
  {
   "cell_type": "code",
   "execution_count": 8,
   "id": "df255ee7-8ea2-4c2a-b4fa-24556f591535",
   "metadata": {},
   "outputs": [],
   "source": [
    "# Loading my personal sleep data\n",
    "df = pd.read_csv(\"/Users/saayedalam/Documents/Career/data_portfolio/sleep_cycle_analysis/data/raw/sleepcycle_raw.csv\", sep=\";\")"
   ]
  },
  {
   "cell_type": "code",
   "execution_count": 9,
   "id": "3942ac90-4fa7-4f46-ae81-533babe500d4",
   "metadata": {},
   "outputs": [
    {
     "data": {
      "text/plain": [
       "(1476, 25)"
      ]
     },
     "execution_count": 9,
     "metadata": {},
     "output_type": "execute_result"
    }
   ],
   "source": [
    "# Finding the dimensions of the dataset.\n",
    "df.shape"
   ]
  },
  {
   "cell_type": "code",
   "execution_count": 4,
   "id": "73535120-325c-45ae-a91b-34b13c7e5431",
   "metadata": {},
   "outputs": [
    {
     "data": {
      "text/html": [
       "<div>\n",
       "<style scoped>\n",
       "    .dataframe tbody tr th:only-of-type {\n",
       "        vertical-align: middle;\n",
       "    }\n",
       "\n",
       "    .dataframe tbody tr th {\n",
       "        vertical-align: top;\n",
       "    }\n",
       "\n",
       "    .dataframe thead th {\n",
       "        text-align: right;\n",
       "    }\n",
       "</style>\n",
       "<table border=\"1\" class=\"dataframe\">\n",
       "  <thead>\n",
       "    <tr style=\"text-align: right;\">\n",
       "      <th></th>\n",
       "      <th>Start</th>\n",
       "      <th>End</th>\n",
       "      <th>Sleep Quality</th>\n",
       "      <th>Regularity</th>\n",
       "      <th>Awake (seconds)</th>\n",
       "      <th>Dream (seconds)</th>\n",
       "      <th>Light (seconds)</th>\n",
       "      <th>Deep (seconds)</th>\n",
       "      <th>Mood</th>\n",
       "      <th>Heart rate (bpm)</th>\n",
       "      <th>...</th>\n",
       "      <th>Time in bed (seconds)</th>\n",
       "      <th>Time asleep (seconds)</th>\n",
       "      <th>Time before sleep (seconds)</th>\n",
       "      <th>Window start</th>\n",
       "      <th>Window stop</th>\n",
       "      <th>Snore time (seconds)</th>\n",
       "      <th>Weather temperature (°F)</th>\n",
       "      <th>Weather type</th>\n",
       "      <th>Notes</th>\n",
       "      <th>Body temperature deviation (degrees Celsius)</th>\n",
       "    </tr>\n",
       "  </thead>\n",
       "  <tbody>\n",
       "    <tr>\n",
       "      <th>0</th>\n",
       "      <td>2015-10-08 02:45:57</td>\n",
       "      <td>2015-10-08 10:23:59</td>\n",
       "      <td>70%</td>\n",
       "      <td>0%</td>\n",
       "      <td>5404.8</td>\n",
       "      <td>0.0</td>\n",
       "      <td>22077.4</td>\n",
       "      <td>0.0</td>\n",
       "      <td>NaN</td>\n",
       "      <td>0</td>\n",
       "      <td>...</td>\n",
       "      <td>27482.2</td>\n",
       "      <td>22077.4</td>\n",
       "      <td>1465.7</td>\n",
       "      <td>2015-10-08 10:15:00</td>\n",
       "      <td>2015-10-08 10:45:00</td>\n",
       "      <td>0.0</td>\n",
       "      <td>32.0</td>\n",
       "      <td>No weather</td>\n",
       "      <td>NaN</td>\n",
       "      <td>NaN</td>\n",
       "    </tr>\n",
       "    <tr>\n",
       "      <th>1</th>\n",
       "      <td>2015-10-09 04:30:19</td>\n",
       "      <td>2015-10-09 11:12:36</td>\n",
       "      <td>61%</td>\n",
       "      <td>79%</td>\n",
       "      <td>2011.4</td>\n",
       "      <td>0.0</td>\n",
       "      <td>22125.7</td>\n",
       "      <td>0.0</td>\n",
       "      <td>NaN</td>\n",
       "      <td>0</td>\n",
       "      <td>...</td>\n",
       "      <td>24137.1</td>\n",
       "      <td>22125.7</td>\n",
       "      <td>482.7</td>\n",
       "      <td>2015-10-09 11:00:00</td>\n",
       "      <td>2015-10-09 11:30:00</td>\n",
       "      <td>0.0</td>\n",
       "      <td>32.0</td>\n",
       "      <td>No weather</td>\n",
       "      <td>NaN</td>\n",
       "      <td>NaN</td>\n",
       "    </tr>\n",
       "    <tr>\n",
       "      <th>2</th>\n",
       "      <td>2015-10-16 03:50:03</td>\n",
       "      <td>2015-10-16 11:19:33</td>\n",
       "      <td>77%</td>\n",
       "      <td>0%</td>\n",
       "      <td>5304.1</td>\n",
       "      <td>0.0</td>\n",
       "      <td>21666.0</td>\n",
       "      <td>0.0</td>\n",
       "      <td>NaN</td>\n",
       "      <td>0</td>\n",
       "      <td>...</td>\n",
       "      <td>26970.1</td>\n",
       "      <td>21666.0</td>\n",
       "      <td>539.4</td>\n",
       "      <td>2015-10-16 12:00:00</td>\n",
       "      <td>2015-10-16 12:30:00</td>\n",
       "      <td>0.0</td>\n",
       "      <td>32.0</td>\n",
       "      <td>No weather</td>\n",
       "      <td>NaN</td>\n",
       "      <td>NaN</td>\n",
       "    </tr>\n",
       "    <tr>\n",
       "      <th>3</th>\n",
       "      <td>2015-10-17 04:07:00</td>\n",
       "      <td>2015-10-17 11:48:30</td>\n",
       "      <td>84%</td>\n",
       "      <td>94%</td>\n",
       "      <td>1753.7</td>\n",
       "      <td>0.0</td>\n",
       "      <td>25935.9</td>\n",
       "      <td>0.0</td>\n",
       "      <td>NaN</td>\n",
       "      <td>0</td>\n",
       "      <td>...</td>\n",
       "      <td>27689.6</td>\n",
       "      <td>25935.9</td>\n",
       "      <td>553.8</td>\n",
       "      <td>2015-10-17 12:00:00</td>\n",
       "      <td>2015-10-17 12:30:00</td>\n",
       "      <td>0.0</td>\n",
       "      <td>32.0</td>\n",
       "      <td>No weather</td>\n",
       "      <td>NaN</td>\n",
       "      <td>NaN</td>\n",
       "    </tr>\n",
       "    <tr>\n",
       "      <th>4</th>\n",
       "      <td>2015-10-18 04:15:18</td>\n",
       "      <td>2015-10-18 11:09:20</td>\n",
       "      <td>77%</td>\n",
       "      <td>94%</td>\n",
       "      <td>1324.9</td>\n",
       "      <td>0.0</td>\n",
       "      <td>23517.4</td>\n",
       "      <td>0.0</td>\n",
       "      <td>NaN</td>\n",
       "      <td>0</td>\n",
       "      <td>...</td>\n",
       "      <td>24842.4</td>\n",
       "      <td>23517.4</td>\n",
       "      <td>496.8</td>\n",
       "      <td>2015-10-18 12:00:00</td>\n",
       "      <td>2015-10-18 12:30:00</td>\n",
       "      <td>0.0</td>\n",
       "      <td>32.0</td>\n",
       "      <td>No weather</td>\n",
       "      <td>NaN</td>\n",
       "      <td>NaN</td>\n",
       "    </tr>\n",
       "  </tbody>\n",
       "</table>\n",
       "<p>5 rows × 25 columns</p>\n",
       "</div>"
      ],
      "text/plain": [
       "                 Start                  End Sleep Quality Regularity  \\\n",
       "0  2015-10-08 02:45:57  2015-10-08 10:23:59           70%         0%   \n",
       "1  2015-10-09 04:30:19  2015-10-09 11:12:36           61%        79%   \n",
       "2  2015-10-16 03:50:03  2015-10-16 11:19:33           77%         0%   \n",
       "3  2015-10-17 04:07:00  2015-10-17 11:48:30           84%        94%   \n",
       "4  2015-10-18 04:15:18  2015-10-18 11:09:20           77%        94%   \n",
       "\n",
       "   Awake (seconds)  Dream (seconds)  Light (seconds)  Deep (seconds) Mood  \\\n",
       "0           5404.8              0.0          22077.4             0.0  NaN   \n",
       "1           2011.4              0.0          22125.7             0.0  NaN   \n",
       "2           5304.1              0.0          21666.0             0.0  NaN   \n",
       "3           1753.7              0.0          25935.9             0.0  NaN   \n",
       "4           1324.9              0.0          23517.4             0.0  NaN   \n",
       "\n",
       "   Heart rate (bpm)  ...  Time in bed (seconds) Time asleep (seconds)  \\\n",
       "0                 0  ...                27482.2               22077.4   \n",
       "1                 0  ...                24137.1               22125.7   \n",
       "2                 0  ...                26970.1               21666.0   \n",
       "3                 0  ...                27689.6               25935.9   \n",
       "4                 0  ...                24842.4               23517.4   \n",
       "\n",
       "   Time before sleep (seconds)         Window start          Window stop  \\\n",
       "0                       1465.7  2015-10-08 10:15:00  2015-10-08 10:45:00   \n",
       "1                        482.7  2015-10-09 11:00:00  2015-10-09 11:30:00   \n",
       "2                        539.4  2015-10-16 12:00:00  2015-10-16 12:30:00   \n",
       "3                        553.8  2015-10-17 12:00:00  2015-10-17 12:30:00   \n",
       "4                        496.8  2015-10-18 12:00:00  2015-10-18 12:30:00   \n",
       "\n",
       "   Snore time (seconds)  Weather temperature (°F)  Weather type Notes  \\\n",
       "0                   0.0                      32.0    No weather   NaN   \n",
       "1                   0.0                      32.0    No weather   NaN   \n",
       "2                   0.0                      32.0    No weather   NaN   \n",
       "3                   0.0                      32.0    No weather   NaN   \n",
       "4                   0.0                      32.0    No weather   NaN   \n",
       "\n",
       "  Body temperature deviation (degrees Celsius)  \n",
       "0                                          NaN  \n",
       "1                                          NaN  \n",
       "2                                          NaN  \n",
       "3                                          NaN  \n",
       "4                                          NaN  \n",
       "\n",
       "[5 rows x 25 columns]"
      ]
     },
     "execution_count": 4,
     "metadata": {},
     "output_type": "execute_result"
    }
   ],
   "source": [
    "# An example of the dataset\n",
    "df.head()"
   ]
  },
  {
   "cell_type": "code",
   "execution_count": 5,
   "id": "45dc33e5-6d83-4e62-9085-6f5e0c9a9ac0",
   "metadata": {},
   "outputs": [
    {
     "data": {
      "text/html": [
       "<style type=\"text/css\">\n",
       "#T_c31c6_row8_col0, #T_c31c6_row13_col0, #T_c31c6_row18_col0, #T_c31c6_row19_col0, #T_c31c6_row23_col0, #T_c31c6_row24_col0 {\n",
       "  background-color: red;\n",
       "}\n",
       "#T_c31c6_row8_col1, #T_c31c6_row13_col1, #T_c31c6_row18_col1, #T_c31c6_row19_col1, #T_c31c6_row23_col1, #T_c31c6_row24_col1 {\n",
       "  background-color: yellow;\n",
       "}\n",
       "</style>\n",
       "<table id=\"T_c31c6\">\n",
       "  <thead>\n",
       "    <tr>\n",
       "      <th class=\"blank level0\" >&nbsp;</th>\n",
       "      <th id=\"T_c31c6_level0_col0\" class=\"col_heading level0 col0\" >Non-Null Counts</th>\n",
       "      <th id=\"T_c31c6_level0_col1\" class=\"col_heading level0 col1\" >Missing Values</th>\n",
       "    </tr>\n",
       "  </thead>\n",
       "  <tbody>\n",
       "    <tr>\n",
       "      <th id=\"T_c31c6_level0_row0\" class=\"row_heading level0 row0\" >Start</th>\n",
       "      <td id=\"T_c31c6_row0_col0\" class=\"data row0 col0\" >1476</td>\n",
       "      <td id=\"T_c31c6_row0_col1\" class=\"data row0 col1\" >0</td>\n",
       "    </tr>\n",
       "    <tr>\n",
       "      <th id=\"T_c31c6_level0_row1\" class=\"row_heading level0 row1\" >End</th>\n",
       "      <td id=\"T_c31c6_row1_col0\" class=\"data row1 col0\" >1476</td>\n",
       "      <td id=\"T_c31c6_row1_col1\" class=\"data row1 col1\" >0</td>\n",
       "    </tr>\n",
       "    <tr>\n",
       "      <th id=\"T_c31c6_level0_row2\" class=\"row_heading level0 row2\" >Sleep Quality</th>\n",
       "      <td id=\"T_c31c6_row2_col0\" class=\"data row2 col0\" >1476</td>\n",
       "      <td id=\"T_c31c6_row2_col1\" class=\"data row2 col1\" >0</td>\n",
       "    </tr>\n",
       "    <tr>\n",
       "      <th id=\"T_c31c6_level0_row3\" class=\"row_heading level0 row3\" >Regularity</th>\n",
       "      <td id=\"T_c31c6_row3_col0\" class=\"data row3 col0\" >1476</td>\n",
       "      <td id=\"T_c31c6_row3_col1\" class=\"data row3 col1\" >0</td>\n",
       "    </tr>\n",
       "    <tr>\n",
       "      <th id=\"T_c31c6_level0_row4\" class=\"row_heading level0 row4\" >Awake (seconds)</th>\n",
       "      <td id=\"T_c31c6_row4_col0\" class=\"data row4 col0\" >1476</td>\n",
       "      <td id=\"T_c31c6_row4_col1\" class=\"data row4 col1\" >0</td>\n",
       "    </tr>\n",
       "    <tr>\n",
       "      <th id=\"T_c31c6_level0_row5\" class=\"row_heading level0 row5\" >Dream (seconds)</th>\n",
       "      <td id=\"T_c31c6_row5_col0\" class=\"data row5 col0\" >1476</td>\n",
       "      <td id=\"T_c31c6_row5_col1\" class=\"data row5 col1\" >0</td>\n",
       "    </tr>\n",
       "    <tr>\n",
       "      <th id=\"T_c31c6_level0_row6\" class=\"row_heading level0 row6\" >Light (seconds)</th>\n",
       "      <td id=\"T_c31c6_row6_col0\" class=\"data row6 col0\" >1476</td>\n",
       "      <td id=\"T_c31c6_row6_col1\" class=\"data row6 col1\" >0</td>\n",
       "    </tr>\n",
       "    <tr>\n",
       "      <th id=\"T_c31c6_level0_row7\" class=\"row_heading level0 row7\" >Deep (seconds)</th>\n",
       "      <td id=\"T_c31c6_row7_col0\" class=\"data row7 col0\" >1476</td>\n",
       "      <td id=\"T_c31c6_row7_col1\" class=\"data row7 col1\" >0</td>\n",
       "    </tr>\n",
       "    <tr>\n",
       "      <th id=\"T_c31c6_level0_row8\" class=\"row_heading level0 row8\" >Mood</th>\n",
       "      <td id=\"T_c31c6_row8_col0\" class=\"data row8 col0\" >543</td>\n",
       "      <td id=\"T_c31c6_row8_col1\" class=\"data row8 col1\" >933</td>\n",
       "    </tr>\n",
       "    <tr>\n",
       "      <th id=\"T_c31c6_level0_row9\" class=\"row_heading level0 row9\" >Heart rate (bpm)</th>\n",
       "      <td id=\"T_c31c6_row9_col0\" class=\"data row9 col0\" >1476</td>\n",
       "      <td id=\"T_c31c6_row9_col1\" class=\"data row9 col1\" >0</td>\n",
       "    </tr>\n",
       "    <tr>\n",
       "      <th id=\"T_c31c6_level0_row10\" class=\"row_heading level0 row10\" >Steps</th>\n",
       "      <td id=\"T_c31c6_row10_col0\" class=\"data row10 col0\" >1476</td>\n",
       "      <td id=\"T_c31c6_row10_col1\" class=\"data row10 col1\" >0</td>\n",
       "    </tr>\n",
       "    <tr>\n",
       "      <th id=\"T_c31c6_level0_row11\" class=\"row_heading level0 row11\" >Alarm mode</th>\n",
       "      <td id=\"T_c31c6_row11_col0\" class=\"data row11 col0\" >1476</td>\n",
       "      <td id=\"T_c31c6_row11_col1\" class=\"data row11 col1\" >0</td>\n",
       "    </tr>\n",
       "    <tr>\n",
       "      <th id=\"T_c31c6_level0_row12\" class=\"row_heading level0 row12\" >Air Pressure (Pa)</th>\n",
       "      <td id=\"T_c31c6_row12_col0\" class=\"data row12 col0\" >1476</td>\n",
       "      <td id=\"T_c31c6_row12_col1\" class=\"data row12 col1\" >0</td>\n",
       "    </tr>\n",
       "    <tr>\n",
       "      <th id=\"T_c31c6_level0_row13\" class=\"row_heading level0 row13\" >City</th>\n",
       "      <td id=\"T_c31c6_row13_col0\" class=\"data row13 col0\" >1050</td>\n",
       "      <td id=\"T_c31c6_row13_col1\" class=\"data row13 col1\" >426</td>\n",
       "    </tr>\n",
       "    <tr>\n",
       "      <th id=\"T_c31c6_level0_row14\" class=\"row_heading level0 row14\" >Movements per hour</th>\n",
       "      <td id=\"T_c31c6_row14_col0\" class=\"data row14 col0\" >1476</td>\n",
       "      <td id=\"T_c31c6_row14_col1\" class=\"data row14 col1\" >0</td>\n",
       "    </tr>\n",
       "    <tr>\n",
       "      <th id=\"T_c31c6_level0_row15\" class=\"row_heading level0 row15\" >Time in bed (seconds)</th>\n",
       "      <td id=\"T_c31c6_row15_col0\" class=\"data row15 col0\" >1476</td>\n",
       "      <td id=\"T_c31c6_row15_col1\" class=\"data row15 col1\" >0</td>\n",
       "    </tr>\n",
       "    <tr>\n",
       "      <th id=\"T_c31c6_level0_row16\" class=\"row_heading level0 row16\" >Time asleep (seconds)</th>\n",
       "      <td id=\"T_c31c6_row16_col0\" class=\"data row16 col0\" >1476</td>\n",
       "      <td id=\"T_c31c6_row16_col1\" class=\"data row16 col1\" >0</td>\n",
       "    </tr>\n",
       "    <tr>\n",
       "      <th id=\"T_c31c6_level0_row17\" class=\"row_heading level0 row17\" >Time before sleep (seconds)</th>\n",
       "      <td id=\"T_c31c6_row17_col0\" class=\"data row17 col0\" >1476</td>\n",
       "      <td id=\"T_c31c6_row17_col1\" class=\"data row17 col1\" >0</td>\n",
       "    </tr>\n",
       "    <tr>\n",
       "      <th id=\"T_c31c6_level0_row18\" class=\"row_heading level0 row18\" >Window start</th>\n",
       "      <td id=\"T_c31c6_row18_col0\" class=\"data row18 col0\" >169</td>\n",
       "      <td id=\"T_c31c6_row18_col1\" class=\"data row18 col1\" >1307</td>\n",
       "    </tr>\n",
       "    <tr>\n",
       "      <th id=\"T_c31c6_level0_row19\" class=\"row_heading level0 row19\" >Window stop</th>\n",
       "      <td id=\"T_c31c6_row19_col0\" class=\"data row19 col0\" >169</td>\n",
       "      <td id=\"T_c31c6_row19_col1\" class=\"data row19 col1\" >1307</td>\n",
       "    </tr>\n",
       "    <tr>\n",
       "      <th id=\"T_c31c6_level0_row20\" class=\"row_heading level0 row20\" >Snore time (seconds)</th>\n",
       "      <td id=\"T_c31c6_row20_col0\" class=\"data row20 col0\" >1476</td>\n",
       "      <td id=\"T_c31c6_row20_col1\" class=\"data row20 col1\" >0</td>\n",
       "    </tr>\n",
       "    <tr>\n",
       "      <th id=\"T_c31c6_level0_row21\" class=\"row_heading level0 row21\" >Weather temperature (°F)</th>\n",
       "      <td id=\"T_c31c6_row21_col0\" class=\"data row21 col0\" >1476</td>\n",
       "      <td id=\"T_c31c6_row21_col1\" class=\"data row21 col1\" >0</td>\n",
       "    </tr>\n",
       "    <tr>\n",
       "      <th id=\"T_c31c6_level0_row22\" class=\"row_heading level0 row22\" >Weather type</th>\n",
       "      <td id=\"T_c31c6_row22_col0\" class=\"data row22 col0\" >1476</td>\n",
       "      <td id=\"T_c31c6_row22_col1\" class=\"data row22 col1\" >0</td>\n",
       "    </tr>\n",
       "    <tr>\n",
       "      <th id=\"T_c31c6_level0_row23\" class=\"row_heading level0 row23\" >Notes</th>\n",
       "      <td id=\"T_c31c6_row23_col0\" class=\"data row23 col0\" >376</td>\n",
       "      <td id=\"T_c31c6_row23_col1\" class=\"data row23 col1\" >1100</td>\n",
       "    </tr>\n",
       "    <tr>\n",
       "      <th id=\"T_c31c6_level0_row24\" class=\"row_heading level0 row24\" >Body temperature deviation (degrees Celsius)</th>\n",
       "      <td id=\"T_c31c6_row24_col0\" class=\"data row24 col0\" >0</td>\n",
       "      <td id=\"T_c31c6_row24_col1\" class=\"data row24 col1\" >1476</td>\n",
       "    </tr>\n",
       "  </tbody>\n",
       "</table>\n"
      ],
      "text/plain": [
       "<pandas.io.formats.style.Styler at 0x1628e9400>"
      ]
     },
     "metadata": {},
     "output_type": "display_data"
    }
   ],
   "source": [
    "# Create a summary of non-null counts and missing values count\n",
    "summary = pd.DataFrame({\n",
    "    'Non-Null Counts': df.notnull().sum(),\n",
    "    'Missing Values': df.isnull().sum()\n",
    "})\n",
    "\n",
    "# Apply the highlighting for both columns\n",
    "summary_styled = summary.style.apply(\n",
    "    lambda x: ['background-color: yellow' if v > 0 else '' for v in x], \n",
    "    subset=['Missing Values']\n",
    ").apply(\n",
    "    lambda x: ['background-color: red' if v < 1476 else '' for v in x], \n",
    "    subset=['Non-Null Counts']\n",
    ")\n",
    "\n",
    "# Display the summary\n",
    "display(summary_styled)"
   ]
  },
  {
   "cell_type": "code",
   "execution_count": 6,
   "id": "805ff79d-05ef-440d-841a-81c337d3ca4b",
   "metadata": {},
   "outputs": [],
   "source": [
    "# Looks like the last column is empty, I will remove it\n",
    "df.drop(\"Body temperature deviation (degrees Celsius)\", axis=1, inplace=True)"
   ]
  },
  {
   "cell_type": "code",
   "execution_count": 7,
   "id": "34d8b820-807d-443e-90ac-b950f00acd35",
   "metadata": {},
   "outputs": [],
   "source": [
    "# Convert both 'Start' and 'End' columns to datetime format in one line\n",
    "df[['Start', 'End']] = df[['Start', 'End']].apply(pd.to_datetime)"
   ]
  },
  {
   "cell_type": "code",
   "execution_count": 8,
   "id": "339d5c05-dc15-4337-ad6b-2fbfb0294ec3",
   "metadata": {},
   "outputs": [
    {
     "data": {
      "image/png": "[encoded data removed]",
      "text/plain": [
       "<Figure size 640x480 with 1 Axes>"
      ]
     },
     "metadata": {},
     "output_type": "display_data"
    }
   ],
   "source": [
    "# Let us look at the Start and End variables.\n",
    "df['Start'].hist(bins=20)\n",
    "plt.title('Histogram of Dates')\n",
    "plt.xlabel('Date')\n",
    "plt.ylabel('Frequency')\n",
    "plt.show()"
   ]
  },
  {
   "cell_type": "code",
   "execution_count": 9,
   "id": "dd81216f-d523-486d-bfaa-2648c7ac8212",
   "metadata": {},
   "outputs": [
    {
     "data": {
      "image/png": "[encoded data removed]",
      "text/plain": [
       "<Figure size 640x480 with 1 Axes>"
      ]
     },
     "metadata": {},
     "output_type": "display_data"
    }
   ],
   "source": [
    "df['End'].hist(bins=20)\n",
    "plt.title('Histogram of Dates')\n",
    "plt.xlabel('Date')\n",
    "plt.ylabel('Frequency')\n",
    "plt.show()"
   ]
  },
  {
   "cell_type": "code",
   "execution_count": 10,
   "id": "641ebebe-6d14-481e-85eb-8ff15405da7f",
   "metadata": {},
   "outputs": [],
   "source": [
    "# Sleep Quality and Regularity are in percentage. Let us convert them. \n",
    "df[['Sleep Quality', 'Regularity']] = df[['Sleep Quality', 'Regularity']].apply(lambda x: pd.to_numeric(x.replace('%', '', regex=True), errors='coerce') / 100)"
   ]
  },
  {
   "cell_type": "code",
   "execution_count": 11,
   "id": "9770e3c5-f57c-4d14-81ae-7f158610cf3d",
   "metadata": {},
   "outputs": [
    {
     "data": {
      "text/html": [
       "<div>\n",
       "<style scoped>\n",
       "    .dataframe tbody tr th:only-of-type {\n",
       "        vertical-align: middle;\n",
       "    }\n",
       "\n",
       "    .dataframe tbody tr th {\n",
       "        vertical-align: top;\n",
       "    }\n",
       "\n",
       "    .dataframe thead th {\n",
       "        text-align: right;\n",
       "    }\n",
       "</style>\n",
       "<table border=\"1\" class=\"dataframe\">\n",
       "  <thead>\n",
       "    <tr style=\"text-align: right;\">\n",
       "      <th></th>\n",
       "      <th>Sleep Quality</th>\n",
       "      <th>Regularity</th>\n",
       "    </tr>\n",
       "  </thead>\n",
       "  <tbody>\n",
       "    <tr>\n",
       "      <th>count</th>\n",
       "      <td>1476.000000</td>\n",
       "      <td>1476.000000</td>\n",
       "    </tr>\n",
       "    <tr>\n",
       "      <th>mean</th>\n",
       "      <td>0.797676</td>\n",
       "      <td>0.703598</td>\n",
       "    </tr>\n",
       "    <tr>\n",
       "      <th>std</th>\n",
       "      <td>0.158686</td>\n",
       "      <td>0.315930</td>\n",
       "    </tr>\n",
       "    <tr>\n",
       "      <th>min</th>\n",
       "      <td>0.030000</td>\n",
       "      <td>-1.090000</td>\n",
       "    </tr>\n",
       "    <tr>\n",
       "      <th>25%</th>\n",
       "      <td>0.720000</td>\n",
       "      <td>0.710000</td>\n",
       "    </tr>\n",
       "    <tr>\n",
       "      <th>50%</th>\n",
       "      <td>0.820000</td>\n",
       "      <td>0.800000</td>\n",
       "    </tr>\n",
       "    <tr>\n",
       "      <th>75%</th>\n",
       "      <td>0.910000</td>\n",
       "      <td>0.860000</td>\n",
       "    </tr>\n",
       "    <tr>\n",
       "      <th>max</th>\n",
       "      <td>1.000000</td>\n",
       "      <td>0.980000</td>\n",
       "    </tr>\n",
       "  </tbody>\n",
       "</table>\n",
       "</div>"
      ],
      "text/plain": [
       "       Sleep Quality   Regularity\n",
       "count    1476.000000  1476.000000\n",
       "mean        0.797676     0.703598\n",
       "std         0.158686     0.315930\n",
       "min         0.030000    -1.090000\n",
       "25%         0.720000     0.710000\n",
       "50%         0.820000     0.800000\n",
       "75%         0.910000     0.860000\n",
       "max         1.000000     0.980000"
      ]
     },
     "metadata": {},
     "output_type": "display_data"
    }
   ],
   "source": [
    "# Let us visualize and see how the variables look\n",
    "display(df[['Sleep Quality', 'Regularity']].describe())"
   ]
  },
  {
   "cell_type": "code",
   "execution_count": 12,
   "id": "879c9052-72e8-4da0-a44c-048013cf972d",
   "metadata": {},
   "outputs": [
    {
     "data": {
      "text/plain": [
       "<Axes: ylabel='Frequency'>"
      ]
     },
     "execution_count": 12,
     "metadata": {},
     "output_type": "execute_result"
    },
    {
     "data": {
      "image/png": "[encoded data removed]",
      "text/plain": [
       "<Figure size 640x480 with 1 Axes>"
      ]
     },
     "metadata": {},
     "output_type": "display_data"
    }
   ],
   "source": [
    "df['Sleep Quality'].plot(kind='hist', bins=50, alpha=0.5)"
   ]
  },
  {
   "cell_type": "code",
   "execution_count": 13,
   "id": "781da866-3bdf-4dbb-8aa5-569a59111f95",
   "metadata": {},
   "outputs": [
    {
     "data": {
      "text/plain": [
       "<Axes: ylabel='Frequency'>"
      ]
     },
     "execution_count": 13,
     "metadata": {},
     "output_type": "execute_result"
    },
    {
     "data": {
      "image/png": "[encoded data removed]",
      "text/plain": [
       "<Figure size 640x480 with 1 Axes>"
      ]
     },
     "metadata": {},
     "output_type": "display_data"
    }
   ],
   "source": [
    "df['Regularity'].plot(kind='hist', bins=50, alpha=0.5)"
   ]
  },
  {
   "cell_type": "code",
   "execution_count": 14,
   "id": "6caf9b13-c60c-4ad2-a1d4-a87e146044f8",
   "metadata": {},
   "outputs": [
    {
     "data": {
      "text/plain": [
       "pandas.core.series.Series"
      ]
     },
     "execution_count": 14,
     "metadata": {},
     "output_type": "execute_result"
    }
   ],
   "source": [
    "type(df['Awake (seconds)'].astype(int) / 60)"
   ]
  },
  {
   "cell_type": "code",
   "execution_count": 15,
   "id": "e87553b8-0493-40d8-9b8f-b309d9b7754d",
   "metadata": {},
   "outputs": [
    {
     "data": {
      "text/plain": [
       "<Axes: ylabel='Frequency'>"
      ]
     },
     "execution_count": 15,
     "metadata": {},
     "output_type": "execute_result"
    },
    {
     "data": {
      "image/png": "[encoded data removed]",
      "text/plain": [
       "<Figure size 640x480 with 1 Axes>"
      ]
     },
     "metadata": {},
     "output_type": "display_data"
    }
   ],
   "source": [
    "(df['Awake (seconds)'].astype(int) / 60).plot(kind='hist', bins=50, alpha=0.5)"
   ]
  },
  {
   "cell_type": "code",
   "execution_count": 16,
   "id": "97cfe0b0-a971-41b1-8908-609c17da9722",
   "metadata": {},
   "outputs": [
    {
     "data": {
      "text/plain": [
       "np.int64(1445)"
      ]
     },
     "execution_count": 16,
     "metadata": {},
     "output_type": "execute_result"
    }
   ],
   "source": [
    "# Dream columns seems to be mostly empty so I will remove it. \n",
    "(df['Dream (seconds)'] == 0.0).sum()"
   ]
  },
  {
   "cell_type": "code",
   "execution_count": 17,
   "id": "9d6de60e-1ab0-4868-9288-e2444e8d9ac4",
   "metadata": {},
   "outputs": [],
   "source": [
    "# Removing dream variable\n",
    "df.drop(\"Dream (seconds)\", axis=1, inplace=True)"
   ]
  },
  {
   "cell_type": "code",
   "execution_count": 18,
   "id": "2fcd0425-97a0-485a-9814-1ccdd6ab5c92",
   "metadata": {},
   "outputs": [
    {
     "data": {
      "text/html": [
       "<div>\n",
       "<style scoped>\n",
       "    .dataframe tbody tr th:only-of-type {\n",
       "        vertical-align: middle;\n",
       "    }\n",
       "\n",
       "    .dataframe tbody tr th {\n",
       "        vertical-align: top;\n",
       "    }\n",
       "\n",
       "    .dataframe thead th {\n",
       "        text-align: right;\n",
       "    }\n",
       "</style>\n",
       "<table border=\"1\" class=\"dataframe\">\n",
       "  <thead>\n",
       "    <tr style=\"text-align: right;\">\n",
       "      <th></th>\n",
       "      <th>Start</th>\n",
       "      <th>End</th>\n",
       "      <th>Sleep Quality</th>\n",
       "      <th>Regularity</th>\n",
       "      <th>Awake (seconds)</th>\n",
       "      <th>Light (seconds)</th>\n",
       "      <th>Deep (seconds)</th>\n",
       "      <th>Mood</th>\n",
       "      <th>Heart rate (bpm)</th>\n",
       "      <th>Steps</th>\n",
       "      <th>...</th>\n",
       "      <th>Movements per hour</th>\n",
       "      <th>Time in bed (seconds)</th>\n",
       "      <th>Time asleep (seconds)</th>\n",
       "      <th>Time before sleep (seconds)</th>\n",
       "      <th>Window start</th>\n",
       "      <th>Window stop</th>\n",
       "      <th>Snore time (seconds)</th>\n",
       "      <th>Weather temperature (°F)</th>\n",
       "      <th>Weather type</th>\n",
       "      <th>Notes</th>\n",
       "    </tr>\n",
       "  </thead>\n",
       "  <tbody>\n",
       "    <tr>\n",
       "      <th>0</th>\n",
       "      <td>2015-10-08 02:45:57</td>\n",
       "      <td>2015-10-08 10:23:59</td>\n",
       "      <td>0.70</td>\n",
       "      <td>0.00</td>\n",
       "      <td>5404.8</td>\n",
       "      <td>22077.4</td>\n",
       "      <td>0.0</td>\n",
       "      <td>NaN</td>\n",
       "      <td>0</td>\n",
       "      <td>15495</td>\n",
       "      <td>...</td>\n",
       "      <td>51.3</td>\n",
       "      <td>27482.2</td>\n",
       "      <td>22077.4</td>\n",
       "      <td>1465.7</td>\n",
       "      <td>2015-10-08 10:15:00</td>\n",
       "      <td>2015-10-08 10:45:00</td>\n",
       "      <td>0.0</td>\n",
       "      <td>32.0</td>\n",
       "      <td>No weather</td>\n",
       "      <td>NaN</td>\n",
       "    </tr>\n",
       "    <tr>\n",
       "      <th>1</th>\n",
       "      <td>2015-10-09 04:30:19</td>\n",
       "      <td>2015-10-09 11:12:36</td>\n",
       "      <td>0.61</td>\n",
       "      <td>0.79</td>\n",
       "      <td>2011.4</td>\n",
       "      <td>22125.7</td>\n",
       "      <td>0.0</td>\n",
       "      <td>NaN</td>\n",
       "      <td>0</td>\n",
       "      <td>13631</td>\n",
       "      <td>...</td>\n",
       "      <td>120.9</td>\n",
       "      <td>24137.1</td>\n",
       "      <td>22125.7</td>\n",
       "      <td>482.7</td>\n",
       "      <td>2015-10-09 11:00:00</td>\n",
       "      <td>2015-10-09 11:30:00</td>\n",
       "      <td>0.0</td>\n",
       "      <td>32.0</td>\n",
       "      <td>No weather</td>\n",
       "      <td>NaN</td>\n",
       "    </tr>\n",
       "    <tr>\n",
       "      <th>2</th>\n",
       "      <td>2015-10-16 03:50:03</td>\n",
       "      <td>2015-10-16 11:19:33</td>\n",
       "      <td>0.77</td>\n",
       "      <td>0.00</td>\n",
       "      <td>5304.1</td>\n",
       "      <td>21666.0</td>\n",
       "      <td>0.0</td>\n",
       "      <td>NaN</td>\n",
       "      <td>0</td>\n",
       "      <td>13016</td>\n",
       "      <td>...</td>\n",
       "      <td>85.1</td>\n",
       "      <td>26970.1</td>\n",
       "      <td>21666.0</td>\n",
       "      <td>539.4</td>\n",
       "      <td>2015-10-16 12:00:00</td>\n",
       "      <td>2015-10-16 12:30:00</td>\n",
       "      <td>0.0</td>\n",
       "      <td>32.0</td>\n",
       "      <td>No weather</td>\n",
       "      <td>NaN</td>\n",
       "    </tr>\n",
       "    <tr>\n",
       "      <th>3</th>\n",
       "      <td>2015-10-17 04:07:00</td>\n",
       "      <td>2015-10-17 11:48:30</td>\n",
       "      <td>0.84</td>\n",
       "      <td>0.94</td>\n",
       "      <td>1753.7</td>\n",
       "      <td>25935.9</td>\n",
       "      <td>0.0</td>\n",
       "      <td>NaN</td>\n",
       "      <td>0</td>\n",
       "      <td>10987</td>\n",
       "      <td>...</td>\n",
       "      <td>69.0</td>\n",
       "      <td>27689.6</td>\n",
       "      <td>25935.9</td>\n",
       "      <td>553.8</td>\n",
       "      <td>2015-10-17 12:00:00</td>\n",
       "      <td>2015-10-17 12:30:00</td>\n",
       "      <td>0.0</td>\n",
       "      <td>32.0</td>\n",
       "      <td>No weather</td>\n",
       "      <td>NaN</td>\n",
       "    </tr>\n",
       "    <tr>\n",
       "      <th>4</th>\n",
       "      <td>2015-10-18 04:15:18</td>\n",
       "      <td>2015-10-18 11:09:20</td>\n",
       "      <td>0.77</td>\n",
       "      <td>0.94</td>\n",
       "      <td>1324.9</td>\n",
       "      <td>23517.4</td>\n",
       "      <td>0.0</td>\n",
       "      <td>NaN</td>\n",
       "      <td>0</td>\n",
       "      <td>9051</td>\n",
       "      <td>...</td>\n",
       "      <td>60.1</td>\n",
       "      <td>24842.4</td>\n",
       "      <td>23517.4</td>\n",
       "      <td>496.8</td>\n",
       "      <td>2015-10-18 12:00:00</td>\n",
       "      <td>2015-10-18 12:30:00</td>\n",
       "      <td>0.0</td>\n",
       "      <td>32.0</td>\n",
       "      <td>No weather</td>\n",
       "      <td>NaN</td>\n",
       "    </tr>\n",
       "  </tbody>\n",
       "</table>\n",
       "<p>5 rows × 23 columns</p>\n",
       "</div>"
      ],
      "text/plain": [
       "                Start                 End  Sleep Quality  Regularity  \\\n",
       "0 2015-10-08 02:45:57 2015-10-08 10:23:59           0.70        0.00   \n",
       "1 2015-10-09 04:30:19 2015-10-09 11:12:36           0.61        0.79   \n",
       "2 2015-10-16 03:50:03 2015-10-16 11:19:33           0.77        0.00   \n",
       "3 2015-10-17 04:07:00 2015-10-17 11:48:30           0.84        0.94   \n",
       "4 2015-10-18 04:15:18 2015-10-18 11:09:20           0.77        0.94   \n",
       "\n",
       "   Awake (seconds)  Light (seconds)  Deep (seconds) Mood  Heart rate (bpm)  \\\n",
       "0           5404.8          22077.4             0.0  NaN                 0   \n",
       "1           2011.4          22125.7             0.0  NaN                 0   \n",
       "2           5304.1          21666.0             0.0  NaN                 0   \n",
       "3           1753.7          25935.9             0.0  NaN                 0   \n",
       "4           1324.9          23517.4             0.0  NaN                 0   \n",
       "\n",
       "   Steps  ... Movements per hour  Time in bed (seconds) Time asleep (seconds)  \\\n",
       "0  15495  ...               51.3                27482.2               22077.4   \n",
       "1  13631  ...              120.9                24137.1               22125.7   \n",
       "2  13016  ...               85.1                26970.1               21666.0   \n",
       "3  10987  ...               69.0                27689.6               25935.9   \n",
       "4   9051  ...               60.1                24842.4               23517.4   \n",
       "\n",
       "   Time before sleep (seconds)         Window start          Window stop  \\\n",
       "0                       1465.7  2015-10-08 10:15:00  2015-10-08 10:45:00   \n",
       "1                        482.7  2015-10-09 11:00:00  2015-10-09 11:30:00   \n",
       "2                        539.4  2015-10-16 12:00:00  2015-10-16 12:30:00   \n",
       "3                        553.8  2015-10-17 12:00:00  2015-10-17 12:30:00   \n",
       "4                        496.8  2015-10-18 12:00:00  2015-10-18 12:30:00   \n",
       "\n",
       "   Snore time (seconds) Weather temperature (°F) Weather type  Notes  \n",
       "0                   0.0                     32.0   No weather    NaN  \n",
       "1                   0.0                     32.0   No weather    NaN  \n",
       "2                   0.0                     32.0   No weather    NaN  \n",
       "3                   0.0                     32.0   No weather    NaN  \n",
       "4                   0.0                     32.0   No weather    NaN  \n",
       "\n",
       "[5 rows x 23 columns]"
      ]
     },
     "execution_count": 18,
     "metadata": {},
     "output_type": "execute_result"
    }
   ],
   "source": [
    "df.head()"
   ]
  },
  {
   "cell_type": "code",
   "execution_count": 19,
   "id": "3a507096-ec98-450e-a562-5f80a4340e11",
   "metadata": {},
   "outputs": [
    {
     "data": {
      "text/plain": [
       "np.int64(1445)"
      ]
     },
     "execution_count": 19,
     "metadata": {},
     "output_type": "execute_result"
    }
   ],
   "source": [
    "# Deep column is empty too. I will remove it as well\n",
    "(df['Deep (seconds)'] == 0.0).sum()"
   ]
  },
  {
   "cell_type": "code",
   "execution_count": 20,
   "id": "4b9298f9-5a33-4de7-8c21-7d840540eb02",
   "metadata": {},
   "outputs": [],
   "source": [
    "# Removing Deep column\n",
    "df.drop(\"Deep (seconds)\", axis=1, inplace=True)"
   ]
  },
  {
   "cell_type": "code",
   "execution_count": 21,
   "id": "52e98828-dd17-455a-b0d1-eea86a966b5a",
   "metadata": {},
   "outputs": [
    {
     "data": {
      "text/html": [
       "<div>\n",
       "<style scoped>\n",
       "    .dataframe tbody tr th:only-of-type {\n",
       "        vertical-align: middle;\n",
       "    }\n",
       "\n",
       "    .dataframe tbody tr th {\n",
       "        vertical-align: top;\n",
       "    }\n",
       "\n",
       "    .dataframe thead th {\n",
       "        text-align: right;\n",
       "    }\n",
       "</style>\n",
       "<table border=\"1\" class=\"dataframe\">\n",
       "  <thead>\n",
       "    <tr style=\"text-align: right;\">\n",
       "      <th></th>\n",
       "      <th>Start</th>\n",
       "      <th>End</th>\n",
       "      <th>Sleep Quality</th>\n",
       "      <th>Regularity</th>\n",
       "      <th>Awake (seconds)</th>\n",
       "      <th>Light (seconds)</th>\n",
       "      <th>Mood</th>\n",
       "      <th>Heart rate (bpm)</th>\n",
       "      <th>Steps</th>\n",
       "      <th>Alarm mode</th>\n",
       "      <th>...</th>\n",
       "      <th>Movements per hour</th>\n",
       "      <th>Time in bed (seconds)</th>\n",
       "      <th>Time asleep (seconds)</th>\n",
       "      <th>Time before sleep (seconds)</th>\n",
       "      <th>Window start</th>\n",
       "      <th>Window stop</th>\n",
       "      <th>Snore time (seconds)</th>\n",
       "      <th>Weather temperature (°F)</th>\n",
       "      <th>Weather type</th>\n",
       "      <th>Notes</th>\n",
       "    </tr>\n",
       "  </thead>\n",
       "  <tbody>\n",
       "    <tr>\n",
       "      <th>0</th>\n",
       "      <td>2015-10-08 02:45:57</td>\n",
       "      <td>2015-10-08 10:23:59</td>\n",
       "      <td>0.70</td>\n",
       "      <td>0.00</td>\n",
       "      <td>5404.8</td>\n",
       "      <td>22077.4</td>\n",
       "      <td>NaN</td>\n",
       "      <td>0</td>\n",
       "      <td>15495</td>\n",
       "      <td>Normal</td>\n",
       "      <td>...</td>\n",
       "      <td>51.3</td>\n",
       "      <td>27482.2</td>\n",
       "      <td>22077.4</td>\n",
       "      <td>1465.7</td>\n",
       "      <td>2015-10-08 10:15:00</td>\n",
       "      <td>2015-10-08 10:45:00</td>\n",
       "      <td>0.0</td>\n",
       "      <td>32.0</td>\n",
       "      <td>No weather</td>\n",
       "      <td>NaN</td>\n",
       "    </tr>\n",
       "    <tr>\n",
       "      <th>1</th>\n",
       "      <td>2015-10-09 04:30:19</td>\n",
       "      <td>2015-10-09 11:12:36</td>\n",
       "      <td>0.61</td>\n",
       "      <td>0.79</td>\n",
       "      <td>2011.4</td>\n",
       "      <td>22125.7</td>\n",
       "      <td>NaN</td>\n",
       "      <td>0</td>\n",
       "      <td>13631</td>\n",
       "      <td>Normal</td>\n",
       "      <td>...</td>\n",
       "      <td>120.9</td>\n",
       "      <td>24137.1</td>\n",
       "      <td>22125.7</td>\n",
       "      <td>482.7</td>\n",
       "      <td>2015-10-09 11:00:00</td>\n",
       "      <td>2015-10-09 11:30:00</td>\n",
       "      <td>0.0</td>\n",
       "      <td>32.0</td>\n",
       "      <td>No weather</td>\n",
       "      <td>NaN</td>\n",
       "    </tr>\n",
       "    <tr>\n",
       "      <th>2</th>\n",
       "      <td>2015-10-16 03:50:03</td>\n",
       "      <td>2015-10-16 11:19:33</td>\n",
       "      <td>0.77</td>\n",
       "      <td>0.00</td>\n",
       "      <td>5304.1</td>\n",
       "      <td>21666.0</td>\n",
       "      <td>NaN</td>\n",
       "      <td>0</td>\n",
       "      <td>13016</td>\n",
       "      <td>Normal</td>\n",
       "      <td>...</td>\n",
       "      <td>85.1</td>\n",
       "      <td>26970.1</td>\n",
       "      <td>21666.0</td>\n",
       "      <td>539.4</td>\n",
       "      <td>2015-10-16 12:00:00</td>\n",
       "      <td>2015-10-16 12:30:00</td>\n",
       "      <td>0.0</td>\n",
       "      <td>32.0</td>\n",
       "      <td>No weather</td>\n",
       "      <td>NaN</td>\n",
       "    </tr>\n",
       "    <tr>\n",
       "      <th>3</th>\n",
       "      <td>2015-10-17 04:07:00</td>\n",
       "      <td>2015-10-17 11:48:30</td>\n",
       "      <td>0.84</td>\n",
       "      <td>0.94</td>\n",
       "      <td>1753.7</td>\n",
       "      <td>25935.9</td>\n",
       "      <td>NaN</td>\n",
       "      <td>0</td>\n",
       "      <td>10987</td>\n",
       "      <td>Normal</td>\n",
       "      <td>...</td>\n",
       "      <td>69.0</td>\n",
       "      <td>27689.6</td>\n",
       "      <td>25935.9</td>\n",
       "      <td>553.8</td>\n",
       "      <td>2015-10-17 12:00:00</td>\n",
       "      <td>2015-10-17 12:30:00</td>\n",
       "      <td>0.0</td>\n",
       "      <td>32.0</td>\n",
       "      <td>No weather</td>\n",
       "      <td>NaN</td>\n",
       "    </tr>\n",
       "    <tr>\n",
       "      <th>4</th>\n",
       "      <td>2015-10-18 04:15:18</td>\n",
       "      <td>2015-10-18 11:09:20</td>\n",
       "      <td>0.77</td>\n",
       "      <td>0.94</td>\n",
       "      <td>1324.9</td>\n",
       "      <td>23517.4</td>\n",
       "      <td>NaN</td>\n",
       "      <td>0</td>\n",
       "      <td>9051</td>\n",
       "      <td>Normal</td>\n",
       "      <td>...</td>\n",
       "      <td>60.1</td>\n",
       "      <td>24842.4</td>\n",
       "      <td>23517.4</td>\n",
       "      <td>496.8</td>\n",
       "      <td>2015-10-18 12:00:00</td>\n",
       "      <td>2015-10-18 12:30:00</td>\n",
       "      <td>0.0</td>\n",
       "      <td>32.0</td>\n",
       "      <td>No weather</td>\n",
       "      <td>NaN</td>\n",
       "    </tr>\n",
       "  </tbody>\n",
       "</table>\n",
       "<p>5 rows × 22 columns</p>\n",
       "</div>"
      ],
      "text/plain": [
       "                Start                 End  Sleep Quality  Regularity  \\\n",
       "0 2015-10-08 02:45:57 2015-10-08 10:23:59           0.70        0.00   \n",
       "1 2015-10-09 04:30:19 2015-10-09 11:12:36           0.61        0.79   \n",
       "2 2015-10-16 03:50:03 2015-10-16 11:19:33           0.77        0.00   \n",
       "3 2015-10-17 04:07:00 2015-10-17 11:48:30           0.84        0.94   \n",
       "4 2015-10-18 04:15:18 2015-10-18 11:09:20           0.77        0.94   \n",
       "\n",
       "   Awake (seconds)  Light (seconds) Mood  Heart rate (bpm)  Steps Alarm mode  \\\n",
       "0           5404.8          22077.4  NaN                 0  15495     Normal   \n",
       "1           2011.4          22125.7  NaN                 0  13631     Normal   \n",
       "2           5304.1          21666.0  NaN                 0  13016     Normal   \n",
       "3           1753.7          25935.9  NaN                 0  10987     Normal   \n",
       "4           1324.9          23517.4  NaN                 0   9051     Normal   \n",
       "\n",
       "   ...  Movements per hour Time in bed (seconds)  Time asleep (seconds)  \\\n",
       "0  ...                51.3               27482.2                22077.4   \n",
       "1  ...               120.9               24137.1                22125.7   \n",
       "2  ...                85.1               26970.1                21666.0   \n",
       "3  ...                69.0               27689.6                25935.9   \n",
       "4  ...                60.1               24842.4                23517.4   \n",
       "\n",
       "   Time before sleep (seconds)         Window start          Window stop  \\\n",
       "0                       1465.7  2015-10-08 10:15:00  2015-10-08 10:45:00   \n",
       "1                        482.7  2015-10-09 11:00:00  2015-10-09 11:30:00   \n",
       "2                        539.4  2015-10-16 12:00:00  2015-10-16 12:30:00   \n",
       "3                        553.8  2015-10-17 12:00:00  2015-10-17 12:30:00   \n",
       "4                        496.8  2015-10-18 12:00:00  2015-10-18 12:30:00   \n",
       "\n",
       "  Snore time (seconds) Weather temperature (°F)  Weather type  Notes  \n",
       "0                  0.0                     32.0    No weather    NaN  \n",
       "1                  0.0                     32.0    No weather    NaN  \n",
       "2                  0.0                     32.0    No weather    NaN  \n",
       "3                  0.0                     32.0    No weather    NaN  \n",
       "4                  0.0                     32.0    No weather    NaN  \n",
       "\n",
       "[5 rows x 22 columns]"
      ]
     },
     "execution_count": 21,
     "metadata": {},
     "output_type": "execute_result"
    }
   ],
   "source": [
    "df.head()"
   ]
  },
  {
   "cell_type": "code",
   "execution_count": 22,
   "id": "65887245-ce4d-435c-8add-11e351c68346",
   "metadata": {},
   "outputs": [
    {
     "data": {
      "text/plain": [
       "<Axes: ylabel='Frequency'>"
      ]
     },
     "execution_count": 22,
     "metadata": {},
     "output_type": "execute_result"
    },
    {
     "data": {
      "image/png": "[encoded data removed]",
      "text/plain": [
       "<Figure size 640x480 with 1 Axes>"
      ]
     },
     "metadata": {},
     "output_type": "display_data"
    }
   ],
   "source": [
    "(df['Light (seconds)'].astype(int) / 3600).plot(kind='hist', bins=50, alpha=0.5)"
   ]
  },
  {
   "cell_type": "code",
   "execution_count": 23,
   "id": "ec523b32-0129-4b2a-97ff-86ae1bb1f189",
   "metadata": {},
   "outputs": [],
   "source": [
    "# Light counts how light the sleep was and it is not an accurate count so I will remove it. \n",
    "df.drop(\"Light (seconds)\", axis=1, inplace=True)"
   ]
  },
  {
   "cell_type": "code",
   "execution_count": 24,
   "id": "e9f6a813-51de-44c8-aa9e-05a8e6ad0424",
   "metadata": {},
   "outputs": [
    {
     "data": {
      "text/html": [
       "<div>\n",
       "<style scoped>\n",
       "    .dataframe tbody tr th:only-of-type {\n",
       "        vertical-align: middle;\n",
       "    }\n",
       "\n",
       "    .dataframe tbody tr th {\n",
       "        vertical-align: top;\n",
       "    }\n",
       "\n",
       "    .dataframe thead th {\n",
       "        text-align: right;\n",
       "    }\n",
       "</style>\n",
       "<table border=\"1\" class=\"dataframe\">\n",
       "  <thead>\n",
       "    <tr style=\"text-align: right;\">\n",
       "      <th></th>\n",
       "      <th>Start</th>\n",
       "      <th>End</th>\n",
       "      <th>Sleep Quality</th>\n",
       "      <th>Regularity</th>\n",
       "      <th>Awake (seconds)</th>\n",
       "      <th>Mood</th>\n",
       "      <th>Heart rate (bpm)</th>\n",
       "      <th>Steps</th>\n",
       "      <th>Alarm mode</th>\n",
       "      <th>Air Pressure (Pa)</th>\n",
       "      <th>...</th>\n",
       "      <th>Movements per hour</th>\n",
       "      <th>Time in bed (seconds)</th>\n",
       "      <th>Time asleep (seconds)</th>\n",
       "      <th>Time before sleep (seconds)</th>\n",
       "      <th>Window start</th>\n",
       "      <th>Window stop</th>\n",
       "      <th>Snore time (seconds)</th>\n",
       "      <th>Weather temperature (°F)</th>\n",
       "      <th>Weather type</th>\n",
       "      <th>Notes</th>\n",
       "    </tr>\n",
       "  </thead>\n",
       "  <tbody>\n",
       "    <tr>\n",
       "      <th>0</th>\n",
       "      <td>2015-10-08 02:45:57</td>\n",
       "      <td>2015-10-08 10:23:59</td>\n",
       "      <td>0.70</td>\n",
       "      <td>0.00</td>\n",
       "      <td>5404.8</td>\n",
       "      <td>NaN</td>\n",
       "      <td>0</td>\n",
       "      <td>15495</td>\n",
       "      <td>Normal</td>\n",
       "      <td>0.0</td>\n",
       "      <td>...</td>\n",
       "      <td>51.3</td>\n",
       "      <td>27482.2</td>\n",
       "      <td>22077.4</td>\n",
       "      <td>1465.7</td>\n",
       "      <td>2015-10-08 10:15:00</td>\n",
       "      <td>2015-10-08 10:45:00</td>\n",
       "      <td>0.0</td>\n",
       "      <td>32.0</td>\n",
       "      <td>No weather</td>\n",
       "      <td>NaN</td>\n",
       "    </tr>\n",
       "    <tr>\n",
       "      <th>1</th>\n",
       "      <td>2015-10-09 04:30:19</td>\n",
       "      <td>2015-10-09 11:12:36</td>\n",
       "      <td>0.61</td>\n",
       "      <td>0.79</td>\n",
       "      <td>2011.4</td>\n",
       "      <td>NaN</td>\n",
       "      <td>0</td>\n",
       "      <td>13631</td>\n",
       "      <td>Normal</td>\n",
       "      <td>0.0</td>\n",
       "      <td>...</td>\n",
       "      <td>120.9</td>\n",
       "      <td>24137.1</td>\n",
       "      <td>22125.7</td>\n",
       "      <td>482.7</td>\n",
       "      <td>2015-10-09 11:00:00</td>\n",
       "      <td>2015-10-09 11:30:00</td>\n",
       "      <td>0.0</td>\n",
       "      <td>32.0</td>\n",
       "      <td>No weather</td>\n",
       "      <td>NaN</td>\n",
       "    </tr>\n",
       "    <tr>\n",
       "      <th>2</th>\n",
       "      <td>2015-10-16 03:50:03</td>\n",
       "      <td>2015-10-16 11:19:33</td>\n",
       "      <td>0.77</td>\n",
       "      <td>0.00</td>\n",
       "      <td>5304.1</td>\n",
       "      <td>NaN</td>\n",
       "      <td>0</td>\n",
       "      <td>13016</td>\n",
       "      <td>Normal</td>\n",
       "      <td>0.0</td>\n",
       "      <td>...</td>\n",
       "      <td>85.1</td>\n",
       "      <td>26970.1</td>\n",
       "      <td>21666.0</td>\n",
       "      <td>539.4</td>\n",
       "      <td>2015-10-16 12:00:00</td>\n",
       "      <td>2015-10-16 12:30:00</td>\n",
       "      <td>0.0</td>\n",
       "      <td>32.0</td>\n",
       "      <td>No weather</td>\n",
       "      <td>NaN</td>\n",
       "    </tr>\n",
       "    <tr>\n",
       "      <th>3</th>\n",
       "      <td>2015-10-17 04:07:00</td>\n",
       "      <td>2015-10-17 11:48:30</td>\n",
       "      <td>0.84</td>\n",
       "      <td>0.94</td>\n",
       "      <td>1753.7</td>\n",
       "      <td>NaN</td>\n",
       "      <td>0</td>\n",
       "      <td>10987</td>\n",
       "      <td>Normal</td>\n",
       "      <td>0.0</td>\n",
       "      <td>...</td>\n",
       "      <td>69.0</td>\n",
       "      <td>27689.6</td>\n",
       "      <td>25935.9</td>\n",
       "      <td>553.8</td>\n",
       "      <td>2015-10-17 12:00:00</td>\n",
       "      <td>2015-10-17 12:30:00</td>\n",
       "      <td>0.0</td>\n",
       "      <td>32.0</td>\n",
       "      <td>No weather</td>\n",
       "      <td>NaN</td>\n",
       "    </tr>\n",
       "    <tr>\n",
       "      <th>4</th>\n",
       "      <td>2015-10-18 04:15:18</td>\n",
       "      <td>2015-10-18 11:09:20</td>\n",
       "      <td>0.77</td>\n",
       "      <td>0.94</td>\n",
       "      <td>1324.9</td>\n",
       "      <td>NaN</td>\n",
       "      <td>0</td>\n",
       "      <td>9051</td>\n",
       "      <td>Normal</td>\n",
       "      <td>0.0</td>\n",
       "      <td>...</td>\n",
       "      <td>60.1</td>\n",
       "      <td>24842.4</td>\n",
       "      <td>23517.4</td>\n",
       "      <td>496.8</td>\n",
       "      <td>2015-10-18 12:00:00</td>\n",
       "      <td>2015-10-18 12:30:00</td>\n",
       "      <td>0.0</td>\n",
       "      <td>32.0</td>\n",
       "      <td>No weather</td>\n",
       "      <td>NaN</td>\n",
       "    </tr>\n",
       "  </tbody>\n",
       "</table>\n",
       "<p>5 rows × 21 columns</p>\n",
       "</div>"
      ],
      "text/plain": [
       "                Start                 End  Sleep Quality  Regularity  \\\n",
       "0 2015-10-08 02:45:57 2015-10-08 10:23:59           0.70        0.00   \n",
       "1 2015-10-09 04:30:19 2015-10-09 11:12:36           0.61        0.79   \n",
       "2 2015-10-16 03:50:03 2015-10-16 11:19:33           0.77        0.00   \n",
       "3 2015-10-17 04:07:00 2015-10-17 11:48:30           0.84        0.94   \n",
       "4 2015-10-18 04:15:18 2015-10-18 11:09:20           0.77        0.94   \n",
       "\n",
       "   Awake (seconds) Mood  Heart rate (bpm)  Steps Alarm mode  \\\n",
       "0           5404.8  NaN                 0  15495     Normal   \n",
       "1           2011.4  NaN                 0  13631     Normal   \n",
       "2           5304.1  NaN                 0  13016     Normal   \n",
       "3           1753.7  NaN                 0  10987     Normal   \n",
       "4           1324.9  NaN                 0   9051     Normal   \n",
       "\n",
       "   Air Pressure (Pa)  ... Movements per hour  Time in bed (seconds)  \\\n",
       "0                0.0  ...               51.3                27482.2   \n",
       "1                0.0  ...              120.9                24137.1   \n",
       "2                0.0  ...               85.1                26970.1   \n",
       "3                0.0  ...               69.0                27689.6   \n",
       "4                0.0  ...               60.1                24842.4   \n",
       "\n",
       "   Time asleep (seconds)  Time before sleep (seconds)         Window start  \\\n",
       "0                22077.4                       1465.7  2015-10-08 10:15:00   \n",
       "1                22125.7                        482.7  2015-10-09 11:00:00   \n",
       "2                21666.0                        539.4  2015-10-16 12:00:00   \n",
       "3                25935.9                        553.8  2015-10-17 12:00:00   \n",
       "4                23517.4                        496.8  2015-10-18 12:00:00   \n",
       "\n",
       "           Window stop Snore time (seconds)  Weather temperature (°F)  \\\n",
       "0  2015-10-08 10:45:00                  0.0                      32.0   \n",
       "1  2015-10-09 11:30:00                  0.0                      32.0   \n",
       "2  2015-10-16 12:30:00                  0.0                      32.0   \n",
       "3  2015-10-17 12:30:00                  0.0                      32.0   \n",
       "4  2015-10-18 12:30:00                  0.0                      32.0   \n",
       "\n",
       "   Weather type Notes  \n",
       "0    No weather   NaN  \n",
       "1    No weather   NaN  \n",
       "2    No weather   NaN  \n",
       "3    No weather   NaN  \n",
       "4    No weather   NaN  \n",
       "\n",
       "[5 rows x 21 columns]"
      ]
     },
     "execution_count": 24,
     "metadata": {},
     "output_type": "execute_result"
    }
   ],
   "source": [
    "df.head()"
   ]
  },
  {
   "cell_type": "code",
   "execution_count": 25,
   "id": "8ebbec05-7a31-4caa-894a-eb2099ab17eb",
   "metadata": {},
   "outputs": [
    {
     "data": {
      "text/plain": [
       "np.int64(1129)"
      ]
     },
     "execution_count": 25,
     "metadata": {},
     "output_type": "execute_result"
    }
   ],
   "source": [
    "# Heart rate variables lacks data too and it is not an accurate measurement.\n",
    "(df['Heart rate (bpm)'] == 0).sum()"
   ]
  },
  {
   "cell_type": "code",
   "execution_count": 26,
   "id": "7ff1bb76-6149-42d2-b476-b171d1206a8c",
   "metadata": {},
   "outputs": [],
   "source": [
    "df.drop('Heart rate (bpm)', axis=1, inplace=True)"
   ]
  },
  {
   "cell_type": "code",
   "execution_count": 27,
   "id": "6dc3522e-3d5f-4ba1-91e4-325eca22b150",
   "metadata": {},
   "outputs": [
    {
     "data": {
      "text/html": [
       "<div>\n",
       "<style scoped>\n",
       "    .dataframe tbody tr th:only-of-type {\n",
       "        vertical-align: middle;\n",
       "    }\n",
       "\n",
       "    .dataframe tbody tr th {\n",
       "        vertical-align: top;\n",
       "    }\n",
       "\n",
       "    .dataframe thead th {\n",
       "        text-align: right;\n",
       "    }\n",
       "</style>\n",
       "<table border=\"1\" class=\"dataframe\">\n",
       "  <thead>\n",
       "    <tr style=\"text-align: right;\">\n",
       "      <th></th>\n",
       "      <th>Start</th>\n",
       "      <th>End</th>\n",
       "      <th>Sleep Quality</th>\n",
       "      <th>Regularity</th>\n",
       "      <th>Awake (seconds)</th>\n",
       "      <th>Mood</th>\n",
       "      <th>Steps</th>\n",
       "      <th>Alarm mode</th>\n",
       "      <th>Air Pressure (Pa)</th>\n",
       "      <th>City</th>\n",
       "      <th>Movements per hour</th>\n",
       "      <th>Time in bed (seconds)</th>\n",
       "      <th>Time asleep (seconds)</th>\n",
       "      <th>Time before sleep (seconds)</th>\n",
       "      <th>Window start</th>\n",
       "      <th>Window stop</th>\n",
       "      <th>Snore time (seconds)</th>\n",
       "      <th>Weather temperature (°F)</th>\n",
       "      <th>Weather type</th>\n",
       "      <th>Notes</th>\n",
       "    </tr>\n",
       "  </thead>\n",
       "  <tbody>\n",
       "    <tr>\n",
       "      <th>0</th>\n",
       "      <td>2015-10-08 02:45:57</td>\n",
       "      <td>2015-10-08 10:23:59</td>\n",
       "      <td>0.70</td>\n",
       "      <td>0.00</td>\n",
       "      <td>5404.8</td>\n",
       "      <td>NaN</td>\n",
       "      <td>15495</td>\n",
       "      <td>Normal</td>\n",
       "      <td>0.0</td>\n",
       "      <td>NaN</td>\n",
       "      <td>51.3</td>\n",
       "      <td>27482.2</td>\n",
       "      <td>22077.4</td>\n",
       "      <td>1465.7</td>\n",
       "      <td>2015-10-08 10:15:00</td>\n",
       "      <td>2015-10-08 10:45:00</td>\n",
       "      <td>0.0</td>\n",
       "      <td>32.0</td>\n",
       "      <td>No weather</td>\n",
       "      <td>NaN</td>\n",
       "    </tr>\n",
       "    <tr>\n",
       "      <th>1</th>\n",
       "      <td>2015-10-09 04:30:19</td>\n",
       "      <td>2015-10-09 11:12:36</td>\n",
       "      <td>0.61</td>\n",
       "      <td>0.79</td>\n",
       "      <td>2011.4</td>\n",
       "      <td>NaN</td>\n",
       "      <td>13631</td>\n",
       "      <td>Normal</td>\n",
       "      <td>0.0</td>\n",
       "      <td>NaN</td>\n",
       "      <td>120.9</td>\n",
       "      <td>24137.1</td>\n",
       "      <td>22125.7</td>\n",
       "      <td>482.7</td>\n",
       "      <td>2015-10-09 11:00:00</td>\n",
       "      <td>2015-10-09 11:30:00</td>\n",
       "      <td>0.0</td>\n",
       "      <td>32.0</td>\n",
       "      <td>No weather</td>\n",
       "      <td>NaN</td>\n",
       "    </tr>\n",
       "    <tr>\n",
       "      <th>2</th>\n",
       "      <td>2015-10-16 03:50:03</td>\n",
       "      <td>2015-10-16 11:19:33</td>\n",
       "      <td>0.77</td>\n",
       "      <td>0.00</td>\n",
       "      <td>5304.1</td>\n",
       "      <td>NaN</td>\n",
       "      <td>13016</td>\n",
       "      <td>Normal</td>\n",
       "      <td>0.0</td>\n",
       "      <td>NaN</td>\n",
       "      <td>85.1</td>\n",
       "      <td>26970.1</td>\n",
       "      <td>21666.0</td>\n",
       "      <td>539.4</td>\n",
       "      <td>2015-10-16 12:00:00</td>\n",
       "      <td>2015-10-16 12:30:00</td>\n",
       "      <td>0.0</td>\n",
       "      <td>32.0</td>\n",
       "      <td>No weather</td>\n",
       "      <td>NaN</td>\n",
       "    </tr>\n",
       "    <tr>\n",
       "      <th>3</th>\n",
       "      <td>2015-10-17 04:07:00</td>\n",
       "      <td>2015-10-17 11:48:30</td>\n",
       "      <td>0.84</td>\n",
       "      <td>0.94</td>\n",
       "      <td>1753.7</td>\n",
       "      <td>NaN</td>\n",
       "      <td>10987</td>\n",
       "      <td>Normal</td>\n",
       "      <td>0.0</td>\n",
       "      <td>NaN</td>\n",
       "      <td>69.0</td>\n",
       "      <td>27689.6</td>\n",
       "      <td>25935.9</td>\n",
       "      <td>553.8</td>\n",
       "      <td>2015-10-17 12:00:00</td>\n",
       "      <td>2015-10-17 12:30:00</td>\n",
       "      <td>0.0</td>\n",
       "      <td>32.0</td>\n",
       "      <td>No weather</td>\n",
       "      <td>NaN</td>\n",
       "    </tr>\n",
       "    <tr>\n",
       "      <th>4</th>\n",
       "      <td>2015-10-18 04:15:18</td>\n",
       "      <td>2015-10-18 11:09:20</td>\n",
       "      <td>0.77</td>\n",
       "      <td>0.94</td>\n",
       "      <td>1324.9</td>\n",
       "      <td>NaN</td>\n",
       "      <td>9051</td>\n",
       "      <td>Normal</td>\n",
       "      <td>0.0</td>\n",
       "      <td>NaN</td>\n",
       "      <td>60.1</td>\n",
       "      <td>24842.4</td>\n",
       "      <td>23517.4</td>\n",
       "      <td>496.8</td>\n",
       "      <td>2015-10-18 12:00:00</td>\n",
       "      <td>2015-10-18 12:30:00</td>\n",
       "      <td>0.0</td>\n",
       "      <td>32.0</td>\n",
       "      <td>No weather</td>\n",
       "      <td>NaN</td>\n",
       "    </tr>\n",
       "  </tbody>\n",
       "</table>\n",
       "</div>"
      ],
      "text/plain": [
       "                Start                 End  Sleep Quality  Regularity  \\\n",
       "0 2015-10-08 02:45:57 2015-10-08 10:23:59           0.70        0.00   \n",
       "1 2015-10-09 04:30:19 2015-10-09 11:12:36           0.61        0.79   \n",
       "2 2015-10-16 03:50:03 2015-10-16 11:19:33           0.77        0.00   \n",
       "3 2015-10-17 04:07:00 2015-10-17 11:48:30           0.84        0.94   \n",
       "4 2015-10-18 04:15:18 2015-10-18 11:09:20           0.77        0.94   \n",
       "\n",
       "   Awake (seconds) Mood  Steps Alarm mode  Air Pressure (Pa) City  \\\n",
       "0           5404.8  NaN  15495     Normal                0.0  NaN   \n",
       "1           2011.4  NaN  13631     Normal                0.0  NaN   \n",
       "2           5304.1  NaN  13016     Normal                0.0  NaN   \n",
       "3           1753.7  NaN  10987     Normal                0.0  NaN   \n",
       "4           1324.9  NaN   9051     Normal                0.0  NaN   \n",
       "\n",
       "   Movements per hour  Time in bed (seconds)  Time asleep (seconds)  \\\n",
       "0                51.3                27482.2                22077.4   \n",
       "1               120.9                24137.1                22125.7   \n",
       "2                85.1                26970.1                21666.0   \n",
       "3                69.0                27689.6                25935.9   \n",
       "4                60.1                24842.4                23517.4   \n",
       "\n",
       "   Time before sleep (seconds)         Window start          Window stop  \\\n",
       "0                       1465.7  2015-10-08 10:15:00  2015-10-08 10:45:00   \n",
       "1                        482.7  2015-10-09 11:00:00  2015-10-09 11:30:00   \n",
       "2                        539.4  2015-10-16 12:00:00  2015-10-16 12:30:00   \n",
       "3                        553.8  2015-10-17 12:00:00  2015-10-17 12:30:00   \n",
       "4                        496.8  2015-10-18 12:00:00  2015-10-18 12:30:00   \n",
       "\n",
       "   Snore time (seconds)  Weather temperature (°F) Weather type Notes  \n",
       "0                   0.0                      32.0   No weather   NaN  \n",
       "1                   0.0                      32.0   No weather   NaN  \n",
       "2                   0.0                      32.0   No weather   NaN  \n",
       "3                   0.0                      32.0   No weather   NaN  \n",
       "4                   0.0                      32.0   No weather   NaN  "
      ]
     },
     "execution_count": 27,
     "metadata": {},
     "output_type": "execute_result"
    }
   ],
   "source": [
    "df.head()"
   ]
  },
  {
   "cell_type": "code",
   "execution_count": 28,
   "id": "b4e94ac6-ee75-485d-a503-ab2920de6878",
   "metadata": {},
   "outputs": [
    {
     "data": {
      "text/plain": [
       "Mood\n",
       "OK      282\n",
       "Good    242\n",
       "Bad      19\n",
       "Name: count, dtype: int64"
      ]
     },
     "execution_count": 28,
     "metadata": {},
     "output_type": "execute_result"
    }
   ],
   "source": [
    "# Even though Mood is mostly empty there are still some notes that can be usefull. I will keep it.\n",
    "df['Mood'].value_counts()"
   ]
  },
  {
   "cell_type": "code",
   "execution_count": 29,
   "id": "4f4bed95-1b4a-4c2c-b5c1-c15329366009",
   "metadata": {},
   "outputs": [
    {
     "data": {
      "text/plain": [
       "np.int64(933)"
      ]
     },
     "execution_count": 29,
     "metadata": {},
     "output_type": "execute_result"
    }
   ],
   "source": [
    "df['Mood'].isna().sum()"
   ]
  },
  {
   "cell_type": "code",
   "execution_count": 30,
   "id": "52e44f8c-70fa-42ff-9e3d-87fc94e3c019",
   "metadata": {},
   "outputs": [
    {
     "data": {
      "text/plain": [
       "Alarm mode\n",
       "No alarm    1301\n",
       "Normal       175\n",
       "Name: count, dtype: int64"
      ]
     },
     "execution_count": 30,
     "metadata": {},
     "output_type": "execute_result"
    }
   ],
   "source": [
    "# Alarm was rarely used on this app so I will remove it as it doesn't say much\n",
    "df['Alarm mode'].value_counts()"
   ]
  },
  {
   "cell_type": "code",
   "execution_count": 31,
   "id": "e6a07a7f-b7b0-4467-a6a8-97f19d0ab15c",
   "metadata": {},
   "outputs": [],
   "source": [
    "df.drop('Alarm mode', axis=1, inplace=True)"
   ]
  },
  {
   "cell_type": "code",
   "execution_count": 32,
   "id": "03cae414-a0fd-4b94-8b48-5db718dc67aa",
   "metadata": {},
   "outputs": [
    {
     "data": {
      "text/html": [
       "<div>\n",
       "<style scoped>\n",
       "    .dataframe tbody tr th:only-of-type {\n",
       "        vertical-align: middle;\n",
       "    }\n",
       "\n",
       "    .dataframe tbody tr th {\n",
       "        vertical-align: top;\n",
       "    }\n",
       "\n",
       "    .dataframe thead th {\n",
       "        text-align: right;\n",
       "    }\n",
       "</style>\n",
       "<table border=\"1\" class=\"dataframe\">\n",
       "  <thead>\n",
       "    <tr style=\"text-align: right;\">\n",
       "      <th></th>\n",
       "      <th>Start</th>\n",
       "      <th>End</th>\n",
       "      <th>Sleep Quality</th>\n",
       "      <th>Regularity</th>\n",
       "      <th>Awake (seconds)</th>\n",
       "      <th>Mood</th>\n",
       "      <th>Steps</th>\n",
       "      <th>Air Pressure (Pa)</th>\n",
       "      <th>City</th>\n",
       "      <th>Movements per hour</th>\n",
       "      <th>Time in bed (seconds)</th>\n",
       "      <th>Time asleep (seconds)</th>\n",
       "      <th>Time before sleep (seconds)</th>\n",
       "      <th>Window start</th>\n",
       "      <th>Window stop</th>\n",
       "      <th>Snore time (seconds)</th>\n",
       "      <th>Weather temperature (°F)</th>\n",
       "      <th>Weather type</th>\n",
       "      <th>Notes</th>\n",
       "    </tr>\n",
       "  </thead>\n",
       "  <tbody>\n",
       "    <tr>\n",
       "      <th>0</th>\n",
       "      <td>2015-10-08 02:45:57</td>\n",
       "      <td>2015-10-08 10:23:59</td>\n",
       "      <td>0.70</td>\n",
       "      <td>0.00</td>\n",
       "      <td>5404.8</td>\n",
       "      <td>NaN</td>\n",
       "      <td>15495</td>\n",
       "      <td>0.0</td>\n",
       "      <td>NaN</td>\n",
       "      <td>51.3</td>\n",
       "      <td>27482.2</td>\n",
       "      <td>22077.4</td>\n",
       "      <td>1465.7</td>\n",
       "      <td>2015-10-08 10:15:00</td>\n",
       "      <td>2015-10-08 10:45:00</td>\n",
       "      <td>0.0</td>\n",
       "      <td>32.0</td>\n",
       "      <td>No weather</td>\n",
       "      <td>NaN</td>\n",
       "    </tr>\n",
       "    <tr>\n",
       "      <th>1</th>\n",
       "      <td>2015-10-09 04:30:19</td>\n",
       "      <td>2015-10-09 11:12:36</td>\n",
       "      <td>0.61</td>\n",
       "      <td>0.79</td>\n",
       "      <td>2011.4</td>\n",
       "      <td>NaN</td>\n",
       "      <td>13631</td>\n",
       "      <td>0.0</td>\n",
       "      <td>NaN</td>\n",
       "      <td>120.9</td>\n",
       "      <td>24137.1</td>\n",
       "      <td>22125.7</td>\n",
       "      <td>482.7</td>\n",
       "      <td>2015-10-09 11:00:00</td>\n",
       "      <td>2015-10-09 11:30:00</td>\n",
       "      <td>0.0</td>\n",
       "      <td>32.0</td>\n",
       "      <td>No weather</td>\n",
       "      <td>NaN</td>\n",
       "    </tr>\n",
       "    <tr>\n",
       "      <th>2</th>\n",
       "      <td>2015-10-16 03:50:03</td>\n",
       "      <td>2015-10-16 11:19:33</td>\n",
       "      <td>0.77</td>\n",
       "      <td>0.00</td>\n",
       "      <td>5304.1</td>\n",
       "      <td>NaN</td>\n",
       "      <td>13016</td>\n",
       "      <td>0.0</td>\n",
       "      <td>NaN</td>\n",
       "      <td>85.1</td>\n",
       "      <td>26970.1</td>\n",
       "      <td>21666.0</td>\n",
       "      <td>539.4</td>\n",
       "      <td>2015-10-16 12:00:00</td>\n",
       "      <td>2015-10-16 12:30:00</td>\n",
       "      <td>0.0</td>\n",
       "      <td>32.0</td>\n",
       "      <td>No weather</td>\n",
       "      <td>NaN</td>\n",
       "    </tr>\n",
       "    <tr>\n",
       "      <th>3</th>\n",
       "      <td>2015-10-17 04:07:00</td>\n",
       "      <td>2015-10-17 11:48:30</td>\n",
       "      <td>0.84</td>\n",
       "      <td>0.94</td>\n",
       "      <td>1753.7</td>\n",
       "      <td>NaN</td>\n",
       "      <td>10987</td>\n",
       "      <td>0.0</td>\n",
       "      <td>NaN</td>\n",
       "      <td>69.0</td>\n",
       "      <td>27689.6</td>\n",
       "      <td>25935.9</td>\n",
       "      <td>553.8</td>\n",
       "      <td>2015-10-17 12:00:00</td>\n",
       "      <td>2015-10-17 12:30:00</td>\n",
       "      <td>0.0</td>\n",
       "      <td>32.0</td>\n",
       "      <td>No weather</td>\n",
       "      <td>NaN</td>\n",
       "    </tr>\n",
       "    <tr>\n",
       "      <th>4</th>\n",
       "      <td>2015-10-18 04:15:18</td>\n",
       "      <td>2015-10-18 11:09:20</td>\n",
       "      <td>0.77</td>\n",
       "      <td>0.94</td>\n",
       "      <td>1324.9</td>\n",
       "      <td>NaN</td>\n",
       "      <td>9051</td>\n",
       "      <td>0.0</td>\n",
       "      <td>NaN</td>\n",
       "      <td>60.1</td>\n",
       "      <td>24842.4</td>\n",
       "      <td>23517.4</td>\n",
       "      <td>496.8</td>\n",
       "      <td>2015-10-18 12:00:00</td>\n",
       "      <td>2015-10-18 12:30:00</td>\n",
       "      <td>0.0</td>\n",
       "      <td>32.0</td>\n",
       "      <td>No weather</td>\n",
       "      <td>NaN</td>\n",
       "    </tr>\n",
       "  </tbody>\n",
       "</table>\n",
       "</div>"
      ],
      "text/plain": [
       "                Start                 End  Sleep Quality  Regularity  \\\n",
       "0 2015-10-08 02:45:57 2015-10-08 10:23:59           0.70        0.00   \n",
       "1 2015-10-09 04:30:19 2015-10-09 11:12:36           0.61        0.79   \n",
       "2 2015-10-16 03:50:03 2015-10-16 11:19:33           0.77        0.00   \n",
       "3 2015-10-17 04:07:00 2015-10-17 11:48:30           0.84        0.94   \n",
       "4 2015-10-18 04:15:18 2015-10-18 11:09:20           0.77        0.94   \n",
       "\n",
       "   Awake (seconds) Mood  Steps  Air Pressure (Pa) City  Movements per hour  \\\n",
       "0           5404.8  NaN  15495                0.0  NaN                51.3   \n",
       "1           2011.4  NaN  13631                0.0  NaN               120.9   \n",
       "2           5304.1  NaN  13016                0.0  NaN                85.1   \n",
       "3           1753.7  NaN  10987                0.0  NaN                69.0   \n",
       "4           1324.9  NaN   9051                0.0  NaN                60.1   \n",
       "\n",
       "   Time in bed (seconds)  Time asleep (seconds)  Time before sleep (seconds)  \\\n",
       "0                27482.2                22077.4                       1465.7   \n",
       "1                24137.1                22125.7                        482.7   \n",
       "2                26970.1                21666.0                        539.4   \n",
       "3                27689.6                25935.9                        553.8   \n",
       "4                24842.4                23517.4                        496.8   \n",
       "\n",
       "          Window start          Window stop  Snore time (seconds)  \\\n",
       "0  2015-10-08 10:15:00  2015-10-08 10:45:00                   0.0   \n",
       "1  2015-10-09 11:00:00  2015-10-09 11:30:00                   0.0   \n",
       "2  2015-10-16 12:00:00  2015-10-16 12:30:00                   0.0   \n",
       "3  2015-10-17 12:00:00  2015-10-17 12:30:00                   0.0   \n",
       "4  2015-10-18 12:00:00  2015-10-18 12:30:00                   0.0   \n",
       "\n",
       "   Weather temperature (°F) Weather type Notes  \n",
       "0                      32.0   No weather   NaN  \n",
       "1                      32.0   No weather   NaN  \n",
       "2                      32.0   No weather   NaN  \n",
       "3                      32.0   No weather   NaN  \n",
       "4                      32.0   No weather   NaN  "
      ]
     },
     "execution_count": 32,
     "metadata": {},
     "output_type": "execute_result"
    }
   ],
   "source": [
    "df.head()"
   ]
  },
  {
   "cell_type": "code",
   "execution_count": 33,
   "id": "5b2b22cb-c58c-44fe-8c40-dc4d1bd10583",
   "metadata": {},
   "outputs": [
    {
     "data": {
      "text/plain": [
       "np.int64(147)"
      ]
     },
     "execution_count": 33,
     "metadata": {},
     "output_type": "execute_result"
    }
   ],
   "source": [
    "(df['Air Pressure (Pa)'] == 0).sum()"
   ]
  },
  {
   "cell_type": "code",
   "execution_count": 34,
   "id": "1cc7fb5a-b7d1-439f-a406-6fc6ca15a2e6",
   "metadata": {},
   "outputs": [
    {
     "data": {
      "text/plain": [
       "count    1476.000000\n",
       "mean       90.716734\n",
       "std        30.195600\n",
       "min         0.000000\n",
       "25%        99.800000\n",
       "50%       100.600000\n",
       "75%       101.300000\n",
       "max       104.000000\n",
       "Name: Air Pressure (Pa), dtype: float64"
      ]
     },
     "execution_count": 34,
     "metadata": {},
     "output_type": "execute_result"
    }
   ],
   "source": [
    "df['Air Pressure (Pa)'].describe()"
   ]
  },
  {
   "cell_type": "code",
   "execution_count": 35,
   "id": "43f9478f-0c30-4158-aed9-321a65a1377b",
   "metadata": {},
   "outputs": [
    {
     "data": {
      "text/plain": [
       "<Axes: ylabel='Frequency'>"
      ]
     },
     "execution_count": 35,
     "metadata": {},
     "output_type": "execute_result"
    },
    {
     "data": {
      "image/png": "[encoded data removed]",
      "text/plain": [
       "<Figure size 640x480 with 1 Axes>"
      ]
     },
     "metadata": {},
     "output_type": "display_data"
    }
   ],
   "source": [
    "df['Air Pressure (Pa)'].plot(kind='hist', bins=50, alpha=0.5)"
   ]
  },
  {
   "cell_type": "markdown",
   "id": "d34674b2-5bb3-4cbf-8231-b98ccac713cc",
   "metadata": {},
   "source": [
    "Air pressure seems to heavily skewed. I will have to adjust it."
   ]
  },
  {
   "cell_type": "code",
   "execution_count": 36,
   "id": "fed5fbb2-bf05-4a6b-9f7d-0da1f67e5f3f",
   "metadata": {},
   "outputs": [
    {
     "data": {
      "text/plain": [
       "count     1476.000000\n",
       "mean      6903.745935\n",
       "std       5379.160436\n",
       "min          0.000000\n",
       "25%       3136.500000\n",
       "50%       5742.500000\n",
       "75%       9445.250000\n",
       "max      42961.000000\n",
       "Name: Steps, dtype: float64"
      ]
     },
     "execution_count": 36,
     "metadata": {},
     "output_type": "execute_result"
    }
   ],
   "source": [
    "df['Steps'].describe()"
   ]
  },
  {
   "cell_type": "code",
   "execution_count": 37,
   "id": "bf73a8ee-9f64-493c-ad11-cf89ccb660be",
   "metadata": {},
   "outputs": [
    {
     "data": {
      "text/plain": [
       "np.int64(40)"
      ]
     },
     "execution_count": 37,
     "metadata": {},
     "output_type": "execute_result"
    }
   ],
   "source": [
    "(df['Steps'] == 0).sum()"
   ]
  },
  {
   "cell_type": "code",
   "execution_count": 38,
   "id": "75558e9e-3a36-437f-8c32-ee0239abf814",
   "metadata": {},
   "outputs": [
    {
     "data": {
      "text/plain": [
       "<Axes: ylabel='Frequency'>"
      ]
     },
     "execution_count": 38,
     "metadata": {},
     "output_type": "execute_result"
    },
    {
     "data": {
      "image/png": "[encoded data removed]",
      "text/plain": [
       "<Figure size 640x480 with 1 Axes>"
      ]
     },
     "metadata": {},
     "output_type": "display_data"
    }
   ],
   "source": [
    "df['Steps'].plot(kind='hist', bins=50, alpha=0.5)"
   ]
  },
  {
   "cell_type": "code",
   "execution_count": 39,
   "id": "467f2332-f97a-4e12-ac62-d11fbf6e9627",
   "metadata": {},
   "outputs": [
    {
     "data": {
      "text/plain": [
       "City\n",
       "New York         523\n",
       "Ajax             346\n",
       "Toronto          176\n",
       "Dorval             2\n",
       "Newburgh town      1\n",
       "Tweed              1\n",
       "Lakeshore          1\n",
       "Name: count, dtype: int64"
      ]
     },
     "execution_count": 39,
     "metadata": {},
     "output_type": "execute_result"
    }
   ],
   "source": [
    "df['City'].value_counts()"
   ]
  },
  {
   "cell_type": "code",
   "execution_count": 40,
   "id": "74f00d1b-8d37-4fbe-93ab-1ca1d1e61777",
   "metadata": {},
   "outputs": [
    {
     "data": {
      "text/plain": [
       "np.int64(426)"
      ]
     },
     "execution_count": 40,
     "metadata": {},
     "output_type": "execute_result"
    }
   ],
   "source": [
    "df['City'].isna().sum()"
   ]
  },
  {
   "cell_type": "code",
   "execution_count": 41,
   "id": "3da80d2c-4bde-47b8-b37b-a4bb2d9ff41c",
   "metadata": {},
   "outputs": [
    {
     "data": {
      "text/html": [
       "<div>\n",
       "<style scoped>\n",
       "    .dataframe tbody tr th:only-of-type {\n",
       "        vertical-align: middle;\n",
       "    }\n",
       "\n",
       "    .dataframe tbody tr th {\n",
       "        vertical-align: top;\n",
       "    }\n",
       "\n",
       "    .dataframe thead th {\n",
       "        text-align: right;\n",
       "    }\n",
       "</style>\n",
       "<table border=\"1\" class=\"dataframe\">\n",
       "  <thead>\n",
       "    <tr style=\"text-align: right;\">\n",
       "      <th></th>\n",
       "      <th>Start</th>\n",
       "      <th>End</th>\n",
       "      <th>Sleep Quality</th>\n",
       "      <th>Regularity</th>\n",
       "      <th>Awake (seconds)</th>\n",
       "      <th>Mood</th>\n",
       "      <th>Steps</th>\n",
       "      <th>Air Pressure (Pa)</th>\n",
       "      <th>City</th>\n",
       "      <th>Movements per hour</th>\n",
       "      <th>Time in bed (seconds)</th>\n",
       "      <th>Time asleep (seconds)</th>\n",
       "      <th>Time before sleep (seconds)</th>\n",
       "      <th>Window start</th>\n",
       "      <th>Window stop</th>\n",
       "      <th>Snore time (seconds)</th>\n",
       "      <th>Weather temperature (°F)</th>\n",
       "      <th>Weather type</th>\n",
       "      <th>Notes</th>\n",
       "    </tr>\n",
       "  </thead>\n",
       "  <tbody>\n",
       "    <tr>\n",
       "      <th>0</th>\n",
       "      <td>2015-10-08 02:45:57</td>\n",
       "      <td>2015-10-08 10:23:59</td>\n",
       "      <td>0.70</td>\n",
       "      <td>0.00</td>\n",
       "      <td>5404.8</td>\n",
       "      <td>NaN</td>\n",
       "      <td>15495</td>\n",
       "      <td>0.0</td>\n",
       "      <td>NaN</td>\n",
       "      <td>51.3</td>\n",
       "      <td>27482.2</td>\n",
       "      <td>22077.4</td>\n",
       "      <td>1465.7</td>\n",
       "      <td>2015-10-08 10:15:00</td>\n",
       "      <td>2015-10-08 10:45:00</td>\n",
       "      <td>0.0</td>\n",
       "      <td>32.0</td>\n",
       "      <td>No weather</td>\n",
       "      <td>NaN</td>\n",
       "    </tr>\n",
       "    <tr>\n",
       "      <th>1</th>\n",
       "      <td>2015-10-09 04:30:19</td>\n",
       "      <td>2015-10-09 11:12:36</td>\n",
       "      <td>0.61</td>\n",
       "      <td>0.79</td>\n",
       "      <td>2011.4</td>\n",
       "      <td>NaN</td>\n",
       "      <td>13631</td>\n",
       "      <td>0.0</td>\n",
       "      <td>NaN</td>\n",
       "      <td>120.9</td>\n",
       "      <td>24137.1</td>\n",
       "      <td>22125.7</td>\n",
       "      <td>482.7</td>\n",
       "      <td>2015-10-09 11:00:00</td>\n",
       "      <td>2015-10-09 11:30:00</td>\n",
       "      <td>0.0</td>\n",
       "      <td>32.0</td>\n",
       "      <td>No weather</td>\n",
       "      <td>NaN</td>\n",
       "    </tr>\n",
       "    <tr>\n",
       "      <th>2</th>\n",
       "      <td>2015-10-16 03:50:03</td>\n",
       "      <td>2015-10-16 11:19:33</td>\n",
       "      <td>0.77</td>\n",
       "      <td>0.00</td>\n",
       "      <td>5304.1</td>\n",
       "      <td>NaN</td>\n",
       "      <td>13016</td>\n",
       "      <td>0.0</td>\n",
       "      <td>NaN</td>\n",
       "      <td>85.1</td>\n",
       "      <td>26970.1</td>\n",
       "      <td>21666.0</td>\n",
       "      <td>539.4</td>\n",
       "      <td>2015-10-16 12:00:00</td>\n",
       "      <td>2015-10-16 12:30:00</td>\n",
       "      <td>0.0</td>\n",
       "      <td>32.0</td>\n",
       "      <td>No weather</td>\n",
       "      <td>NaN</td>\n",
       "    </tr>\n",
       "    <tr>\n",
       "      <th>3</th>\n",
       "      <td>2015-10-17 04:07:00</td>\n",
       "      <td>2015-10-17 11:48:30</td>\n",
       "      <td>0.84</td>\n",
       "      <td>0.94</td>\n",
       "      <td>1753.7</td>\n",
       "      <td>NaN</td>\n",
       "      <td>10987</td>\n",
       "      <td>0.0</td>\n",
       "      <td>NaN</td>\n",
       "      <td>69.0</td>\n",
       "      <td>27689.6</td>\n",
       "      <td>25935.9</td>\n",
       "      <td>553.8</td>\n",
       "      <td>2015-10-17 12:00:00</td>\n",
       "      <td>2015-10-17 12:30:00</td>\n",
       "      <td>0.0</td>\n",
       "      <td>32.0</td>\n",
       "      <td>No weather</td>\n",
       "      <td>NaN</td>\n",
       "    </tr>\n",
       "    <tr>\n",
       "      <th>4</th>\n",
       "      <td>2015-10-18 04:15:18</td>\n",
       "      <td>2015-10-18 11:09:20</td>\n",
       "      <td>0.77</td>\n",
       "      <td>0.94</td>\n",
       "      <td>1324.9</td>\n",
       "      <td>NaN</td>\n",
       "      <td>9051</td>\n",
       "      <td>0.0</td>\n",
       "      <td>NaN</td>\n",
       "      <td>60.1</td>\n",
       "      <td>24842.4</td>\n",
       "      <td>23517.4</td>\n",
       "      <td>496.8</td>\n",
       "      <td>2015-10-18 12:00:00</td>\n",
       "      <td>2015-10-18 12:30:00</td>\n",
       "      <td>0.0</td>\n",
       "      <td>32.0</td>\n",
       "      <td>No weather</td>\n",
       "      <td>NaN</td>\n",
       "    </tr>\n",
       "  </tbody>\n",
       "</table>\n",
       "</div>"
      ],
      "text/plain": [
       "                Start                 End  Sleep Quality  Regularity  \\\n",
       "0 2015-10-08 02:45:57 2015-10-08 10:23:59           0.70        0.00   \n",
       "1 2015-10-09 04:30:19 2015-10-09 11:12:36           0.61        0.79   \n",
       "2 2015-10-16 03:50:03 2015-10-16 11:19:33           0.77        0.00   \n",
       "3 2015-10-17 04:07:00 2015-10-17 11:48:30           0.84        0.94   \n",
       "4 2015-10-18 04:15:18 2015-10-18 11:09:20           0.77        0.94   \n",
       "\n",
       "   Awake (seconds) Mood  Steps  Air Pressure (Pa) City  Movements per hour  \\\n",
       "0           5404.8  NaN  15495                0.0  NaN                51.3   \n",
       "1           2011.4  NaN  13631                0.0  NaN               120.9   \n",
       "2           5304.1  NaN  13016                0.0  NaN                85.1   \n",
       "3           1753.7  NaN  10987                0.0  NaN                69.0   \n",
       "4           1324.9  NaN   9051                0.0  NaN                60.1   \n",
       "\n",
       "   Time in bed (seconds)  Time asleep (seconds)  Time before sleep (seconds)  \\\n",
       "0                27482.2                22077.4                       1465.7   \n",
       "1                24137.1                22125.7                        482.7   \n",
       "2                26970.1                21666.0                        539.4   \n",
       "3                27689.6                25935.9                        553.8   \n",
       "4                24842.4                23517.4                        496.8   \n",
       "\n",
       "          Window start          Window stop  Snore time (seconds)  \\\n",
       "0  2015-10-08 10:15:00  2015-10-08 10:45:00                   0.0   \n",
       "1  2015-10-09 11:00:00  2015-10-09 11:30:00                   0.0   \n",
       "2  2015-10-16 12:00:00  2015-10-16 12:30:00                   0.0   \n",
       "3  2015-10-17 12:00:00  2015-10-17 12:30:00                   0.0   \n",
       "4  2015-10-18 12:00:00  2015-10-18 12:30:00                   0.0   \n",
       "\n",
       "   Weather temperature (°F) Weather type Notes  \n",
       "0                      32.0   No weather   NaN  \n",
       "1                      32.0   No weather   NaN  \n",
       "2                      32.0   No weather   NaN  \n",
       "3                      32.0   No weather   NaN  \n",
       "4                      32.0   No weather   NaN  "
      ]
     },
     "execution_count": 41,
     "metadata": {},
     "output_type": "execute_result"
    }
   ],
   "source": [
    "df.head()"
   ]
  },
  {
   "cell_type": "code",
   "execution_count": 42,
   "id": "b6824cba-5af5-4121-b2b7-128059f388bf",
   "metadata": {},
   "outputs": [
    {
     "data": {
      "text/plain": [
       "count    1476.000000\n",
       "mean      100.728997\n",
       "std        59.967878\n",
       "min         0.000000\n",
       "25%        67.875000\n",
       "50%        91.650000\n",
       "75%       123.325000\n",
       "max       939.100000\n",
       "Name: Movements per hour, dtype: float64"
      ]
     },
     "execution_count": 42,
     "metadata": {},
     "output_type": "execute_result"
    }
   ],
   "source": [
    "df['Movements per hour'].describe()"
   ]
  },
  {
   "cell_type": "code",
   "execution_count": 43,
   "id": "4fdd0ccb-3260-4aea-be5b-41423aa3b5d5",
   "metadata": {},
   "outputs": [
    {
     "data": {
      "text/plain": [
       "<Axes: ylabel='Frequency'>"
      ]
     },
     "execution_count": 43,
     "metadata": {},
     "output_type": "execute_result"
    },
    {
     "data": {
      "image/png": "[encoded data removed]",
      "text/plain": [
       "<Figure size 640x480 with 1 Axes>"
      ]
     },
     "metadata": {},
     "output_type": "display_data"
    }
   ],
   "source": [
    "df['Steps'].plot(kind='hist', bins=50, alpha=0.5)"
   ]
  },
  {
   "cell_type": "code",
   "execution_count": 44,
   "id": "2241fe08-5aa5-4160-8f15-f154df01da77",
   "metadata": {},
   "outputs": [
    {
     "data": {
      "text/plain": [
       "count    1476.000000\n",
       "mean        7.863124\n",
       "std         1.674689\n",
       "min         0.263167\n",
       "25%         7.057486\n",
       "50%         7.983639\n",
       "75%         8.822604\n",
       "max        20.133639\n",
       "Name: Time in bed (seconds), dtype: float64"
      ]
     },
     "execution_count": 44,
     "metadata": {},
     "output_type": "execute_result"
    }
   ],
   "source": [
    "(df['Time in bed (seconds)'] / 3600).describe()"
   ]
  },
  {
   "cell_type": "code",
   "execution_count": 45,
   "id": "8ecc63d3-b982-437c-965e-711d4fad8f89",
   "metadata": {},
   "outputs": [
    {
     "data": {
      "text/plain": [
       "<Axes: ylabel='Frequency'>"
      ]
     },
     "execution_count": 45,
     "metadata": {},
     "output_type": "execute_result"
    },
    {
     "data": {
      "image/png": "[encoded data removed]",
      "text/plain": [
       "<Figure size 640x480 with 1 Axes>"
      ]
     },
     "metadata": {},
     "output_type": "display_data"
    }
   ],
   "source": [
    "(df['Time in bed (seconds)'] / 3600).plot(kind='hist', bins=50, alpha=0.5)"
   ]
  },
  {
   "cell_type": "code",
   "execution_count": 46,
   "id": "262d78b6-5e24-487b-81f8-3bf021245680",
   "metadata": {},
   "outputs": [
    {
     "data": {
      "text/plain": [
       "count    1476.000000\n",
       "mean        6.760561\n",
       "std         1.611555\n",
       "min         0.000000\n",
       "25%         5.975465\n",
       "50%         6.795903\n",
       "75%         7.657792\n",
       "max        19.730944\n",
       "Name: Time asleep (seconds), dtype: float64"
      ]
     },
     "execution_count": 46,
     "metadata": {},
     "output_type": "execute_result"
    }
   ],
   "source": [
    "(df['Time asleep (seconds)'] / 3600).describe()"
   ]
  },
  {
   "cell_type": "code",
   "execution_count": 47,
   "id": "574071d7-367a-452b-a776-ef4b50a1400e",
   "metadata": {},
   "outputs": [
    {
     "data": {
      "text/plain": [
       "<Axes: ylabel='Frequency'>"
      ]
     },
     "execution_count": 47,
     "metadata": {},
     "output_type": "execute_result"
    },
    {
     "data": {
      "image/png": "[encoded data removed]",
      "text/plain": [
       "<Figure size 640x480 with 1 Axes>"
      ]
     },
     "metadata": {},
     "output_type": "display_data"
    }
   ],
   "source": [
    "(df['Time asleep (seconds)'] / 3600).plot(kind='hist', bins=50, alpha=0.5)"
   ]
  },
  {
   "cell_type": "code",
   "execution_count": 48,
   "id": "b59f00c0-3398-47f1-b6b6-b23e9332ca98",
   "metadata": {},
   "outputs": [
    {
     "data": {
      "text/plain": [
       "count    1476.000000\n",
       "mean        0.307115\n",
       "std         0.311382\n",
       "min         0.000000\n",
       "25%         0.150139\n",
       "50%         0.173347\n",
       "75%         0.311417\n",
       "max         2.055833\n",
       "Name: Time before sleep (seconds), dtype: float64"
      ]
     },
     "execution_count": 48,
     "metadata": {},
     "output_type": "execute_result"
    }
   ],
   "source": [
    "(df['Time before sleep (seconds)'] / 3600).describe()"
   ]
  },
  {
   "cell_type": "code",
   "execution_count": 49,
   "id": "0a3b3878-490e-48f2-a0f9-15cc0c3880a4",
   "metadata": {},
   "outputs": [
    {
     "data": {
      "text/plain": [
       "<Axes: ylabel='Frequency'>"
      ]
     },
     "execution_count": 49,
     "metadata": {},
     "output_type": "execute_result"
    },
    {
     "data": {
      "image/png": "[encoded data removed]",
      "text/plain": [
       "<Figure size 640x480 with 1 Axes>"
      ]
     },
     "metadata": {},
     "output_type": "display_data"
    }
   ],
   "source": [
    "(df['Time before sleep (seconds)'] / 3600).plot(kind='hist', bins=50, alpha=0.5)"
   ]
  },
  {
   "cell_type": "code",
   "execution_count": 50,
   "id": "020a70ab-8907-4e04-aa55-ffa46e3e2309",
   "metadata": {},
   "outputs": [],
   "source": [
    "# I will remove both window variables as they are predefined\n",
    "df.drop(['Window start', 'Window stop'], axis=1, inplace=True)"
   ]
  },
  {
   "cell_type": "code",
   "execution_count": 51,
   "id": "8d8536a1-7389-4d59-85dd-5c1d947e5bff",
   "metadata": {},
   "outputs": [
    {
     "data": {
      "text/html": [
       "<div>\n",
       "<style scoped>\n",
       "    .dataframe tbody tr th:only-of-type {\n",
       "        vertical-align: middle;\n",
       "    }\n",
       "\n",
       "    .dataframe tbody tr th {\n",
       "        vertical-align: top;\n",
       "    }\n",
       "\n",
       "    .dataframe thead th {\n",
       "        text-align: right;\n",
       "    }\n",
       "</style>\n",
       "<table border=\"1\" class=\"dataframe\">\n",
       "  <thead>\n",
       "    <tr style=\"text-align: right;\">\n",
       "      <th></th>\n",
       "      <th>Start</th>\n",
       "      <th>End</th>\n",
       "      <th>Sleep Quality</th>\n",
       "      <th>Regularity</th>\n",
       "      <th>Awake (seconds)</th>\n",
       "      <th>Mood</th>\n",
       "      <th>Steps</th>\n",
       "      <th>Air Pressure (Pa)</th>\n",
       "      <th>City</th>\n",
       "      <th>Movements per hour</th>\n",
       "      <th>Time in bed (seconds)</th>\n",
       "      <th>Time asleep (seconds)</th>\n",
       "      <th>Time before sleep (seconds)</th>\n",
       "      <th>Snore time (seconds)</th>\n",
       "      <th>Weather temperature (°F)</th>\n",
       "      <th>Weather type</th>\n",
       "      <th>Notes</th>\n",
       "    </tr>\n",
       "  </thead>\n",
       "  <tbody>\n",
       "    <tr>\n",
       "      <th>0</th>\n",
       "      <td>2015-10-08 02:45:57</td>\n",
       "      <td>2015-10-08 10:23:59</td>\n",
       "      <td>0.70</td>\n",
       "      <td>0.00</td>\n",
       "      <td>5404.8</td>\n",
       "      <td>NaN</td>\n",
       "      <td>15495</td>\n",
       "      <td>0.0</td>\n",
       "      <td>NaN</td>\n",
       "      <td>51.3</td>\n",
       "      <td>27482.2</td>\n",
       "      <td>22077.4</td>\n",
       "      <td>1465.7</td>\n",
       "      <td>0.0</td>\n",
       "      <td>32.0</td>\n",
       "      <td>No weather</td>\n",
       "      <td>NaN</td>\n",
       "    </tr>\n",
       "    <tr>\n",
       "      <th>1</th>\n",
       "      <td>2015-10-09 04:30:19</td>\n",
       "      <td>2015-10-09 11:12:36</td>\n",
       "      <td>0.61</td>\n",
       "      <td>0.79</td>\n",
       "      <td>2011.4</td>\n",
       "      <td>NaN</td>\n",
       "      <td>13631</td>\n",
       "      <td>0.0</td>\n",
       "      <td>NaN</td>\n",
       "      <td>120.9</td>\n",
       "      <td>24137.1</td>\n",
       "      <td>22125.7</td>\n",
       "      <td>482.7</td>\n",
       "      <td>0.0</td>\n",
       "      <td>32.0</td>\n",
       "      <td>No weather</td>\n",
       "      <td>NaN</td>\n",
       "    </tr>\n",
       "    <tr>\n",
       "      <th>2</th>\n",
       "      <td>2015-10-16 03:50:03</td>\n",
       "      <td>2015-10-16 11:19:33</td>\n",
       "      <td>0.77</td>\n",
       "      <td>0.00</td>\n",
       "      <td>5304.1</td>\n",
       "      <td>NaN</td>\n",
       "      <td>13016</td>\n",
       "      <td>0.0</td>\n",
       "      <td>NaN</td>\n",
       "      <td>85.1</td>\n",
       "      <td>26970.1</td>\n",
       "      <td>21666.0</td>\n",
       "      <td>539.4</td>\n",
       "      <td>0.0</td>\n",
       "      <td>32.0</td>\n",
       "      <td>No weather</td>\n",
       "      <td>NaN</td>\n",
       "    </tr>\n",
       "    <tr>\n",
       "      <th>3</th>\n",
       "      <td>2015-10-17 04:07:00</td>\n",
       "      <td>2015-10-17 11:48:30</td>\n",
       "      <td>0.84</td>\n",
       "      <td>0.94</td>\n",
       "      <td>1753.7</td>\n",
       "      <td>NaN</td>\n",
       "      <td>10987</td>\n",
       "      <td>0.0</td>\n",
       "      <td>NaN</td>\n",
       "      <td>69.0</td>\n",
       "      <td>27689.6</td>\n",
       "      <td>25935.9</td>\n",
       "      <td>553.8</td>\n",
       "      <td>0.0</td>\n",
       "      <td>32.0</td>\n",
       "      <td>No weather</td>\n",
       "      <td>NaN</td>\n",
       "    </tr>\n",
       "    <tr>\n",
       "      <th>4</th>\n",
       "      <td>2015-10-18 04:15:18</td>\n",
       "      <td>2015-10-18 11:09:20</td>\n",
       "      <td>0.77</td>\n",
       "      <td>0.94</td>\n",
       "      <td>1324.9</td>\n",
       "      <td>NaN</td>\n",
       "      <td>9051</td>\n",
       "      <td>0.0</td>\n",
       "      <td>NaN</td>\n",
       "      <td>60.1</td>\n",
       "      <td>24842.4</td>\n",
       "      <td>23517.4</td>\n",
       "      <td>496.8</td>\n",
       "      <td>0.0</td>\n",
       "      <td>32.0</td>\n",
       "      <td>No weather</td>\n",
       "      <td>NaN</td>\n",
       "    </tr>\n",
       "  </tbody>\n",
       "</table>\n",
       "</div>"
      ],
      "text/plain": [
       "                Start                 End  Sleep Quality  Regularity  \\\n",
       "0 2015-10-08 02:45:57 2015-10-08 10:23:59           0.70        0.00   \n",
       "1 2015-10-09 04:30:19 2015-10-09 11:12:36           0.61        0.79   \n",
       "2 2015-10-16 03:50:03 2015-10-16 11:19:33           0.77        0.00   \n",
       "3 2015-10-17 04:07:00 2015-10-17 11:48:30           0.84        0.94   \n",
       "4 2015-10-18 04:15:18 2015-10-18 11:09:20           0.77        0.94   \n",
       "\n",
       "   Awake (seconds) Mood  Steps  Air Pressure (Pa) City  Movements per hour  \\\n",
       "0           5404.8  NaN  15495                0.0  NaN                51.3   \n",
       "1           2011.4  NaN  13631                0.0  NaN               120.9   \n",
       "2           5304.1  NaN  13016                0.0  NaN                85.1   \n",
       "3           1753.7  NaN  10987                0.0  NaN                69.0   \n",
       "4           1324.9  NaN   9051                0.0  NaN                60.1   \n",
       "\n",
       "   Time in bed (seconds)  Time asleep (seconds)  Time before sleep (seconds)  \\\n",
       "0                27482.2                22077.4                       1465.7   \n",
       "1                24137.1                22125.7                        482.7   \n",
       "2                26970.1                21666.0                        539.4   \n",
       "3                27689.6                25935.9                        553.8   \n",
       "4                24842.4                23517.4                        496.8   \n",
       "\n",
       "   Snore time (seconds)  Weather temperature (°F) Weather type Notes  \n",
       "0                   0.0                      32.0   No weather   NaN  \n",
       "1                   0.0                      32.0   No weather   NaN  \n",
       "2                   0.0                      32.0   No weather   NaN  \n",
       "3                   0.0                      32.0   No weather   NaN  \n",
       "4                   0.0                      32.0   No weather   NaN  "
      ]
     },
     "execution_count": 51,
     "metadata": {},
     "output_type": "execute_result"
    }
   ],
   "source": [
    "df.head()"
   ]
  },
  {
   "cell_type": "code",
   "execution_count": 52,
   "id": "3638bad5-0c53-4097-9fc5-de29ac7455a3",
   "metadata": {},
   "outputs": [
    {
     "data": {
      "text/plain": [
       "count     1476.000000\n",
       "mean      1900.407656\n",
       "std       2254.184198\n",
       "min          0.000000\n",
       "25%          0.000000\n",
       "50%       1064.450000\n",
       "75%       3387.975000\n",
       "max      11036.300000\n",
       "Name: Snore time (seconds), dtype: float64"
      ]
     },
     "execution_count": 52,
     "metadata": {},
     "output_type": "execute_result"
    }
   ],
   "source": [
    "df['Snore time (seconds)'].describe()"
   ]
  },
  {
   "cell_type": "code",
   "execution_count": 53,
   "id": "7dfc04ca-2640-404a-bff8-a993b5dfdc44",
   "metadata": {},
   "outputs": [
    {
     "name": "stdout",
     "output_type": "stream",
     "text": [
      "40.04% of the column has 0.0 values\n"
     ]
    }
   ],
   "source": [
    "percentage = (df['Snore time (seconds)'] == 0.0).mean() * 100\n",
    "print(f\"{percentage:.2f}% of the column has 0.0 values\")"
   ]
  },
  {
   "cell_type": "markdown",
   "id": "60af678c-015f-4b77-ac6c-ca8b5f7f02c6",
   "metadata": {},
   "source": [
    "40% of table doesn't have data for Snore. This feature was introduced later hence the missing data. "
   ]
  },
  {
   "cell_type": "code",
   "execution_count": 54,
   "id": "b9329978-e041-469c-a8d0-821c69a01917",
   "metadata": {},
   "outputs": [
    {
     "data": {
      "text/plain": [
       "count    1476.000000\n",
       "mean       38.605488\n",
       "std        12.654207\n",
       "min         3.900000\n",
       "25%        32.000000\n",
       "50%        32.000000\n",
       "75%        42.325000\n",
       "max        88.500000\n",
       "Name: Weather temperature (°F), dtype: float64"
      ]
     },
     "execution_count": 54,
     "metadata": {},
     "output_type": "execute_result"
    }
   ],
   "source": [
    "df['Weather temperature (°F)'].describe()"
   ]
  },
  {
   "cell_type": "code",
   "execution_count": 55,
   "id": "3279a6be-6e3f-40bf-9503-a1e42d300483",
   "metadata": {},
   "outputs": [
    {
     "data": {
      "text/plain": [
       "<Axes: ylabel='Frequency'>"
      ]
     },
     "execution_count": 55,
     "metadata": {},
     "output_type": "execute_result"
    },
    {
     "data": {
      "image/png": "[encoded data removed]",
      "text/plain": [
       "<Figure size 640x480 with 1 Axes>"
      ]
     },
     "metadata": {},
     "output_type": "display_data"
    }
   ],
   "source": [
    "df['Weather temperature (°F)'].plot(kind='hist', bins=50, alpha=0.5)"
   ]
  },
  {
   "cell_type": "code",
   "execution_count": 56,
   "id": "7fca8759-85ce-49e9-800c-cb3aa6e20839",
   "metadata": {},
   "outputs": [
    {
     "name": "stdout",
     "output_type": "stream",
     "text": [
      "Most common value: 32.0, appears 902 times\n"
     ]
    }
   ],
   "source": [
    "value_counts = df['Weather temperature (°F)'].value_counts()\n",
    "most_common = value_counts.idxmax()\n",
    "count = value_counts.max()\n",
    "\n",
    "print(f\"Most common value: {most_common}, appears {count} times\")"
   ]
  },
  {
   "cell_type": "markdown",
   "id": "d059da23-9d14-4fdd-aa28-402f621b29f9",
   "metadata": {},
   "source": [
    "I am not sure how accurate this weather record is. I believe 32 has been entered as default a lot."
   ]
  },
  {
   "cell_type": "code",
   "execution_count": 57,
   "id": "59e10b61-ef46-4c11-9761-ba5879d5cc66",
   "metadata": {},
   "outputs": [
    {
     "data": {
      "text/html": [
       "<div>\n",
       "<style scoped>\n",
       "    .dataframe tbody tr th:only-of-type {\n",
       "        vertical-align: middle;\n",
       "    }\n",
       "\n",
       "    .dataframe tbody tr th {\n",
       "        vertical-align: top;\n",
       "    }\n",
       "\n",
       "    .dataframe thead th {\n",
       "        text-align: right;\n",
       "    }\n",
       "</style>\n",
       "<table border=\"1\" class=\"dataframe\">\n",
       "  <thead>\n",
       "    <tr style=\"text-align: right;\">\n",
       "      <th></th>\n",
       "      <th>Start</th>\n",
       "      <th>End</th>\n",
       "      <th>Sleep Quality</th>\n",
       "      <th>Regularity</th>\n",
       "      <th>Awake (seconds)</th>\n",
       "      <th>Mood</th>\n",
       "      <th>Steps</th>\n",
       "      <th>Air Pressure (Pa)</th>\n",
       "      <th>City</th>\n",
       "      <th>Movements per hour</th>\n",
       "      <th>Time in bed (seconds)</th>\n",
       "      <th>Time asleep (seconds)</th>\n",
       "      <th>Time before sleep (seconds)</th>\n",
       "      <th>Snore time (seconds)</th>\n",
       "      <th>Weather temperature (°F)</th>\n",
       "      <th>Weather type</th>\n",
       "      <th>Notes</th>\n",
       "    </tr>\n",
       "  </thead>\n",
       "  <tbody>\n",
       "    <tr>\n",
       "      <th>0</th>\n",
       "      <td>2015-10-08 02:45:57</td>\n",
       "      <td>2015-10-08 10:23:59</td>\n",
       "      <td>0.70</td>\n",
       "      <td>0.00</td>\n",
       "      <td>5404.8</td>\n",
       "      <td>NaN</td>\n",
       "      <td>15495</td>\n",
       "      <td>0.0</td>\n",
       "      <td>NaN</td>\n",
       "      <td>51.3</td>\n",
       "      <td>27482.2</td>\n",
       "      <td>22077.4</td>\n",
       "      <td>1465.7</td>\n",
       "      <td>0.0</td>\n",
       "      <td>32.0</td>\n",
       "      <td>No weather</td>\n",
       "      <td>NaN</td>\n",
       "    </tr>\n",
       "    <tr>\n",
       "      <th>1</th>\n",
       "      <td>2015-10-09 04:30:19</td>\n",
       "      <td>2015-10-09 11:12:36</td>\n",
       "      <td>0.61</td>\n",
       "      <td>0.79</td>\n",
       "      <td>2011.4</td>\n",
       "      <td>NaN</td>\n",
       "      <td>13631</td>\n",
       "      <td>0.0</td>\n",
       "      <td>NaN</td>\n",
       "      <td>120.9</td>\n",
       "      <td>24137.1</td>\n",
       "      <td>22125.7</td>\n",
       "      <td>482.7</td>\n",
       "      <td>0.0</td>\n",
       "      <td>32.0</td>\n",
       "      <td>No weather</td>\n",
       "      <td>NaN</td>\n",
       "    </tr>\n",
       "    <tr>\n",
       "      <th>2</th>\n",
       "      <td>2015-10-16 03:50:03</td>\n",
       "      <td>2015-10-16 11:19:33</td>\n",
       "      <td>0.77</td>\n",
       "      <td>0.00</td>\n",
       "      <td>5304.1</td>\n",
       "      <td>NaN</td>\n",
       "      <td>13016</td>\n",
       "      <td>0.0</td>\n",
       "      <td>NaN</td>\n",
       "      <td>85.1</td>\n",
       "      <td>26970.1</td>\n",
       "      <td>21666.0</td>\n",
       "      <td>539.4</td>\n",
       "      <td>0.0</td>\n",
       "      <td>32.0</td>\n",
       "      <td>No weather</td>\n",
       "      <td>NaN</td>\n",
       "    </tr>\n",
       "    <tr>\n",
       "      <th>3</th>\n",
       "      <td>2015-10-17 04:07:00</td>\n",
       "      <td>2015-10-17 11:48:30</td>\n",
       "      <td>0.84</td>\n",
       "      <td>0.94</td>\n",
       "      <td>1753.7</td>\n",
       "      <td>NaN</td>\n",
       "      <td>10987</td>\n",
       "      <td>0.0</td>\n",
       "      <td>NaN</td>\n",
       "      <td>69.0</td>\n",
       "      <td>27689.6</td>\n",
       "      <td>25935.9</td>\n",
       "      <td>553.8</td>\n",
       "      <td>0.0</td>\n",
       "      <td>32.0</td>\n",
       "      <td>No weather</td>\n",
       "      <td>NaN</td>\n",
       "    </tr>\n",
       "    <tr>\n",
       "      <th>4</th>\n",
       "      <td>2015-10-18 04:15:18</td>\n",
       "      <td>2015-10-18 11:09:20</td>\n",
       "      <td>0.77</td>\n",
       "      <td>0.94</td>\n",
       "      <td>1324.9</td>\n",
       "      <td>NaN</td>\n",
       "      <td>9051</td>\n",
       "      <td>0.0</td>\n",
       "      <td>NaN</td>\n",
       "      <td>60.1</td>\n",
       "      <td>24842.4</td>\n",
       "      <td>23517.4</td>\n",
       "      <td>496.8</td>\n",
       "      <td>0.0</td>\n",
       "      <td>32.0</td>\n",
       "      <td>No weather</td>\n",
       "      <td>NaN</td>\n",
       "    </tr>\n",
       "  </tbody>\n",
       "</table>\n",
       "</div>"
      ],
      "text/plain": [
       "                Start                 End  Sleep Quality  Regularity  \\\n",
       "0 2015-10-08 02:45:57 2015-10-08 10:23:59           0.70        0.00   \n",
       "1 2015-10-09 04:30:19 2015-10-09 11:12:36           0.61        0.79   \n",
       "2 2015-10-16 03:50:03 2015-10-16 11:19:33           0.77        0.00   \n",
       "3 2015-10-17 04:07:00 2015-10-17 11:48:30           0.84        0.94   \n",
       "4 2015-10-18 04:15:18 2015-10-18 11:09:20           0.77        0.94   \n",
       "\n",
       "   Awake (seconds) Mood  Steps  Air Pressure (Pa) City  Movements per hour  \\\n",
       "0           5404.8  NaN  15495                0.0  NaN                51.3   \n",
       "1           2011.4  NaN  13631                0.0  NaN               120.9   \n",
       "2           5304.1  NaN  13016                0.0  NaN                85.1   \n",
       "3           1753.7  NaN  10987                0.0  NaN                69.0   \n",
       "4           1324.9  NaN   9051                0.0  NaN                60.1   \n",
       "\n",
       "   Time in bed (seconds)  Time asleep (seconds)  Time before sleep (seconds)  \\\n",
       "0                27482.2                22077.4                       1465.7   \n",
       "1                24137.1                22125.7                        482.7   \n",
       "2                26970.1                21666.0                        539.4   \n",
       "3                27689.6                25935.9                        553.8   \n",
       "4                24842.4                23517.4                        496.8   \n",
       "\n",
       "   Snore time (seconds)  Weather temperature (°F) Weather type Notes  \n",
       "0                   0.0                      32.0   No weather   NaN  \n",
       "1                   0.0                      32.0   No weather   NaN  \n",
       "2                   0.0                      32.0   No weather   NaN  \n",
       "3                   0.0                      32.0   No weather   NaN  \n",
       "4                   0.0                      32.0   No weather   NaN  "
      ]
     },
     "execution_count": 57,
     "metadata": {},
     "output_type": "execute_result"
    }
   ],
   "source": [
    "df.head()"
   ]
  },
  {
   "cell_type": "code",
   "execution_count": 58,
   "id": "3c705574-3b72-4710-9bf0-e2873ab8d24e",
   "metadata": {},
   "outputs": [
    {
     "data": {
      "text/plain": [
       "Weather type\n",
       "No weather       900\n",
       "Sunny            185\n",
       "Cloudy           149\n",
       "Partly cloudy    126\n",
       "Fair              53\n",
       "Rain              48\n",
       "Snow               6\n",
       "Fog                6\n",
       "Rainy showers      3\n",
       "Name: count, dtype: int64"
      ]
     },
     "execution_count": 58,
     "metadata": {},
     "output_type": "execute_result"
    }
   ],
   "source": [
    "df['Weather type'].value_counts()"
   ]
  },
  {
   "cell_type": "markdown",
   "id": "179029ba-0a6e-4f53-a116-7591ad096bd9",
   "metadata": {},
   "source": [
    "This column indicates that there are no weather for 900 rows. This could be correlated with the weather temperature column. I will keep them"
   ]
  },
  {
   "cell_type": "code",
   "execution_count": 59,
   "id": "af96508c-aaef-42c0-a8aa-920c2819a0b8",
   "metadata": {},
   "outputs": [
    {
     "data": {
      "text/plain": [
       "Notes\n",
       "Worked out                                                111\n",
       "Worked                                                    101\n",
       "Drank Alcohol :Worked                                      37\n",
       "Drank Alcohol                                              26\n",
       "School:Worked out                                          22\n",
       "Stressful day                                              12\n",
       "School                                                      8\n",
       "Drank Alcohol :Worked out                                   8\n",
       "Ate late                                                    7\n",
       "Ate late:Drank Alcohol :Worked                              4\n",
       "Ate late:Worked out                                         4\n",
       "Worked:Worked out                                           4\n",
       "Ate late:Drank Alcohol                                      3\n",
       "Drank Alcohol :Worked:Worked out                            2\n",
       "Drank Alcohol :School                                       2\n",
       "Drank Alcohol :School:Worked out                            2\n",
       "Ate late:Drank Alcohol :School:Worked out                   2\n",
       "Stressful day:Worked out                                    1\n",
       "Good day                                                    1\n",
       "Alcohol                                                     1\n",
       "Time outside:Worked out                                     1\n",
       "Alcohol:Ate late:Drank Alcohol :Time outside:Worked         1\n",
       "Ate late:Bath:Good day:Worked out                           1\n",
       "Ate late:Good day:Sleep drug:Time outside                   1\n",
       "Time outside                                                1\n",
       "Ate late:Bath:Time outside:Worked out                       1\n",
       "Alcohol:Good day:Time outside                               1\n",
       "Bath:Worked                                                 1\n",
       "Good day:Time outside:Tired:Worked out                      1\n",
       "Ate late:School                                             1\n",
       "Ate late:Stressful day:Time outside:Worked out              1\n",
       "Good day:Worked out                                         1\n",
       "Ate late:School:Worked out                                  1\n",
       "Ate late:Drank Alcohol :Stressful day                       1\n",
       "Ate late:Worked                                             1\n",
       "Drank Alcohol :School:Worked                                1\n",
       "Ate late:Drank Alcohol :School:Worked                       1\n",
       "Alcohol:Ate late:Stressful day:Time outside:Worked out      1\n",
       "Name: count, dtype: int64"
      ]
     },
     "execution_count": 59,
     "metadata": {},
     "output_type": "execute_result"
    }
   ],
   "source": [
    "df['Notes'].value_counts()"
   ]
  },
  {
   "cell_type": "code",
   "execution_count": 60,
   "id": "c613cf79-dce6-4094-a301-22e34f9df123",
   "metadata": {},
   "outputs": [
    {
     "data": {
      "text/html": [
       "<div>\n",
       "<style scoped>\n",
       "    .dataframe tbody tr th:only-of-type {\n",
       "        vertical-align: middle;\n",
       "    }\n",
       "\n",
       "    .dataframe tbody tr th {\n",
       "        vertical-align: top;\n",
       "    }\n",
       "\n",
       "    .dataframe thead th {\n",
       "        text-align: right;\n",
       "    }\n",
       "</style>\n",
       "<table border=\"1\" class=\"dataframe\">\n",
       "  <thead>\n",
       "    <tr style=\"text-align: right;\">\n",
       "      <th></th>\n",
       "      <th>Start</th>\n",
       "      <th>End</th>\n",
       "      <th>Sleep Quality</th>\n",
       "      <th>Regularity</th>\n",
       "      <th>Awake (seconds)</th>\n",
       "      <th>Mood</th>\n",
       "      <th>Steps</th>\n",
       "      <th>Air Pressure (Pa)</th>\n",
       "      <th>City</th>\n",
       "      <th>Movements per hour</th>\n",
       "      <th>Time in bed (seconds)</th>\n",
       "      <th>Time asleep (seconds)</th>\n",
       "      <th>Time before sleep (seconds)</th>\n",
       "      <th>Snore time (seconds)</th>\n",
       "      <th>Weather temperature (°F)</th>\n",
       "      <th>Weather type</th>\n",
       "      <th>Notes</th>\n",
       "    </tr>\n",
       "  </thead>\n",
       "  <tbody>\n",
       "    <tr>\n",
       "      <th>0</th>\n",
       "      <td>2015-10-08 02:45:57</td>\n",
       "      <td>2015-10-08 10:23:59</td>\n",
       "      <td>0.70</td>\n",
       "      <td>0.00</td>\n",
       "      <td>5404.8</td>\n",
       "      <td>NaN</td>\n",
       "      <td>15495</td>\n",
       "      <td>0.0</td>\n",
       "      <td>NaN</td>\n",
       "      <td>51.3</td>\n",
       "      <td>27482.2</td>\n",
       "      <td>22077.4</td>\n",
       "      <td>1465.7</td>\n",
       "      <td>0.0</td>\n",
       "      <td>32.0</td>\n",
       "      <td>No weather</td>\n",
       "      <td>NaN</td>\n",
       "    </tr>\n",
       "    <tr>\n",
       "      <th>1</th>\n",
       "      <td>2015-10-09 04:30:19</td>\n",
       "      <td>2015-10-09 11:12:36</td>\n",
       "      <td>0.61</td>\n",
       "      <td>0.79</td>\n",
       "      <td>2011.4</td>\n",
       "      <td>NaN</td>\n",
       "      <td>13631</td>\n",
       "      <td>0.0</td>\n",
       "      <td>NaN</td>\n",
       "      <td>120.9</td>\n",
       "      <td>24137.1</td>\n",
       "      <td>22125.7</td>\n",
       "      <td>482.7</td>\n",
       "      <td>0.0</td>\n",
       "      <td>32.0</td>\n",
       "      <td>No weather</td>\n",
       "      <td>NaN</td>\n",
       "    </tr>\n",
       "    <tr>\n",
       "      <th>2</th>\n",
       "      <td>2015-10-16 03:50:03</td>\n",
       "      <td>2015-10-16 11:19:33</td>\n",
       "      <td>0.77</td>\n",
       "      <td>0.00</td>\n",
       "      <td>5304.1</td>\n",
       "      <td>NaN</td>\n",
       "      <td>13016</td>\n",
       "      <td>0.0</td>\n",
       "      <td>NaN</td>\n",
       "      <td>85.1</td>\n",
       "      <td>26970.1</td>\n",
       "      <td>21666.0</td>\n",
       "      <td>539.4</td>\n",
       "      <td>0.0</td>\n",
       "      <td>32.0</td>\n",
       "      <td>No weather</td>\n",
       "      <td>NaN</td>\n",
       "    </tr>\n",
       "    <tr>\n",
       "      <th>3</th>\n",
       "      <td>2015-10-17 04:07:00</td>\n",
       "      <td>2015-10-17 11:48:30</td>\n",
       "      <td>0.84</td>\n",
       "      <td>0.94</td>\n",
       "      <td>1753.7</td>\n",
       "      <td>NaN</td>\n",
       "      <td>10987</td>\n",
       "      <td>0.0</td>\n",
       "      <td>NaN</td>\n",
       "      <td>69.0</td>\n",
       "      <td>27689.6</td>\n",
       "      <td>25935.9</td>\n",
       "      <td>553.8</td>\n",
       "      <td>0.0</td>\n",
       "      <td>32.0</td>\n",
       "      <td>No weather</td>\n",
       "      <td>NaN</td>\n",
       "    </tr>\n",
       "    <tr>\n",
       "      <th>4</th>\n",
       "      <td>2015-10-18 04:15:18</td>\n",
       "      <td>2015-10-18 11:09:20</td>\n",
       "      <td>0.77</td>\n",
       "      <td>0.94</td>\n",
       "      <td>1324.9</td>\n",
       "      <td>NaN</td>\n",
       "      <td>9051</td>\n",
       "      <td>0.0</td>\n",
       "      <td>NaN</td>\n",
       "      <td>60.1</td>\n",
       "      <td>24842.4</td>\n",
       "      <td>23517.4</td>\n",
       "      <td>496.8</td>\n",
       "      <td>0.0</td>\n",
       "      <td>32.0</td>\n",
       "      <td>No weather</td>\n",
       "      <td>NaN</td>\n",
       "    </tr>\n",
       "  </tbody>\n",
       "</table>\n",
       "</div>"
      ],
      "text/plain": [
       "                Start                 End  Sleep Quality  Regularity  \\\n",
       "0 2015-10-08 02:45:57 2015-10-08 10:23:59           0.70        0.00   \n",
       "1 2015-10-09 04:30:19 2015-10-09 11:12:36           0.61        0.79   \n",
       "2 2015-10-16 03:50:03 2015-10-16 11:19:33           0.77        0.00   \n",
       "3 2015-10-17 04:07:00 2015-10-17 11:48:30           0.84        0.94   \n",
       "4 2015-10-18 04:15:18 2015-10-18 11:09:20           0.77        0.94   \n",
       "\n",
       "   Awake (seconds) Mood  Steps  Air Pressure (Pa) City  Movements per hour  \\\n",
       "0           5404.8  NaN  15495                0.0  NaN                51.3   \n",
       "1           2011.4  NaN  13631                0.0  NaN               120.9   \n",
       "2           5304.1  NaN  13016                0.0  NaN                85.1   \n",
       "3           1753.7  NaN  10987                0.0  NaN                69.0   \n",
       "4           1324.9  NaN   9051                0.0  NaN                60.1   \n",
       "\n",
       "   Time in bed (seconds)  Time asleep (seconds)  Time before sleep (seconds)  \\\n",
       "0                27482.2                22077.4                       1465.7   \n",
       "1                24137.1                22125.7                        482.7   \n",
       "2                26970.1                21666.0                        539.4   \n",
       "3                27689.6                25935.9                        553.8   \n",
       "4                24842.4                23517.4                        496.8   \n",
       "\n",
       "   Snore time (seconds)  Weather temperature (°F) Weather type Notes  \n",
       "0                   0.0                      32.0   No weather   NaN  \n",
       "1                   0.0                      32.0   No weather   NaN  \n",
       "2                   0.0                      32.0   No weather   NaN  \n",
       "3                   0.0                      32.0   No weather   NaN  \n",
       "4                   0.0                      32.0   No weather   NaN  "
      ]
     },
     "execution_count": 60,
     "metadata": {},
     "output_type": "execute_result"
    }
   ],
   "source": [
    "df.head()"
   ]
  },
  {
   "cell_type": "code",
   "execution_count": 61,
   "id": "29370c02-4fd9-439c-806b-4462157fce68",
   "metadata": {},
   "outputs": [
    {
     "data": {
      "text/plain": [
       "Index(['Start', 'End', 'Sleep Quality', 'Regularity', 'Awake (seconds)',\n",
       "       'Mood', 'Steps', 'Air Pressure (Pa)', 'City', 'Movements per hour',\n",
       "       'Time in bed (seconds)', 'Time asleep (seconds)',\n",
       "       'Time before sleep (seconds)', 'Snore time (seconds)',\n",
       "       'Weather temperature (°F)', 'Weather type', 'Notes'],\n",
       "      dtype='object')"
      ]
     },
     "execution_count": 61,
     "metadata": {},
     "output_type": "execute_result"
    }
   ],
   "source": [
    "df.columns"
   ]
  },
  {
   "cell_type": "code",
   "execution_count": null,
   "id": "487c8168-0b98-49b2-9505-b88a1359ec5f",
   "metadata": {},
   "outputs": [],
   "source": []
  }
 ],
 "metadata": {
  "kernelspec": {
   "display_name": "Python 3 (ipykernel)",
   "language": "python",
   "name": "python3"
  },
  "language_info": {
   "codemirror_mode": {
    "name": "ipython",
    "version": 3
   },
   "file_extension": ".py",
   "mimetype": "text/x-python",
   "name": "python",
   "nbconvert_exporter": "python",
   "pygments_lexer": "ipython3",
   "version": "3.13.3"
  }
 },
 "nbformat": 4,
 "nbformat_minor": 5
}
